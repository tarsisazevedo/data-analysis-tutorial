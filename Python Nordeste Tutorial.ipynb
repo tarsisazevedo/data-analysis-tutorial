{
 "cells": [
  {
   "cell_type": "markdown",
   "metadata": {},
   "source": [
    "# Python Data Analisys and Visualization\n",
    "\n",
    "\n",
    "## O que veremos?\n",
    "* Dados?\n",
    "    * onde conseguir\n",
    "    * como importar\n",
    "    \n",
    "* Limpando, manipulando e validando\n",
    "* Entendendo os dados\n",
    "* Respondendo as perguntas que temos"
   ]
  },
  {
   "cell_type": "markdown",
   "metadata": {},
   "source": [
    "### Dados?\n",
    "\n",
    "Neste curso usaremos dados publicos providos pela [Operação Serenata de Amor](https://serenatadeamor.org/), que captura e processa os dados de senadores e deputados.\n",
    "\n",
    "Você pode ver o ultimo relatorio dessa operação [aqui](https://medium.com/data-science-brigade/relat%C3%B3rio-mensal-da-opera%C3%A7%C3%A3o-serenata-de-amor-008-88c40c0930cd).\n",
    "\n",
    "Para usar os dados do serenata você pode instalar o [serenata-toolbox](https://github.com/datasciencebr/serenata-toolbox). Para instalar você pode fazer:\n",
    "\n",
    "    $ pip install git+https://github.com/datasciencebr/serenata-toolbox.git#egg=serenata-toolbox\n",
    "\n",
    "Depois podemos baixar os dados de reembolso dos nossos senadores assim:"
   ]
  },
  {
   "cell_type": "code",
   "execution_count": null,
   "metadata": {},
   "outputs": [],
   "source": [
    "from serenata_toolbox.datasets import Datasets\n",
    "from serenata_toolbox.federal_senate.federal_senate_dataset import FederalSenateDataset\n",
    "dataset_dir = '.'\n",
    "\n",
    "senate = FederalSenateDataset(dataset_dir)\n",
    "senate.fetch()\n",
    "senate.translate()\n",
    "senate.clean()"
   ]
  },
  {
   "cell_type": "markdown",
   "metadata": {},
   "source": [
    "Ele vai baixar um arquivo compactado com os dados do senado desde 2009, mas como isso demora um pouco, nós vamos usar o arquivo **federal-senate-2016** que eu ja disponibilizei aqui."
   ]
  },
  {
   "cell_type": "code",
   "execution_count": 1,
   "metadata": {},
   "outputs": [
    {
     "data": {
      "text/html": [
       "<div>\n",
       "<style>\n",
       "    .dataframe thead tr:only-child th {\n",
       "        text-align: right;\n",
       "    }\n",
       "\n",
       "    .dataframe thead th {\n",
       "        text-align: left;\n",
       "    }\n",
       "\n",
       "    .dataframe tbody tr th {\n",
       "        vertical-align: top;\n",
       "    }\n",
       "</style>\n",
       "<table border=\"1\" class=\"dataframe\">\n",
       "  <thead>\n",
       "    <tr style=\"text-align: right;\">\n",
       "      <th></th>\n",
       "      <th>year</th>\n",
       "      <th>month</th>\n",
       "      <th>congressperson_name</th>\n",
       "      <th>expense_type</th>\n",
       "      <th>cnpj_cpf</th>\n",
       "      <th>supplier</th>\n",
       "      <th>document_id</th>\n",
       "      <th>date</th>\n",
       "      <th>expense_details</th>\n",
       "      <th>reimbursement_value</th>\n",
       "    </tr>\n",
       "  </thead>\n",
       "  <tbody>\n",
       "    <tr>\n",
       "      <th>0</th>\n",
       "      <td>2016</td>\n",
       "      <td>1</td>\n",
       "      <td>ACIR GURGACZ</td>\n",
       "      <td>Rent of real estate for political office, comp...</td>\n",
       "      <td>05.914.650/0001-66</td>\n",
       "      <td>ELETROBRÁS DISTRIBUIÇÃO RONDÔNIA</td>\n",
       "      <td>000011328</td>\n",
       "      <td>13/01/2016</td>\n",
       "      <td>Despesa com pagamento de energia elétrica para...</td>\n",
       "      <td>73,6</td>\n",
       "    </tr>\n",
       "    <tr>\n",
       "      <th>1</th>\n",
       "      <td>2016</td>\n",
       "      <td>1</td>\n",
       "      <td>ACIR GURGACZ</td>\n",
       "      <td>Rent of real estate for political office, comp...</td>\n",
       "      <td>05.914.650/0001-66</td>\n",
       "      <td>ELETROBRÁS DISTRIBUIÇÃO RONDÔNIA</td>\n",
       "      <td>000011327</td>\n",
       "      <td>18/01/2016</td>\n",
       "      <td>Pagamento de energia elétrica para o escritóri...</td>\n",
       "      <td>206,84</td>\n",
       "    </tr>\n",
       "    <tr>\n",
       "      <th>2</th>\n",
       "      <td>2016</td>\n",
       "      <td>1</td>\n",
       "      <td>ACIR GURGACZ</td>\n",
       "      <td>Rent of real estate for political office, comp...</td>\n",
       "      <td>004.948.028-63</td>\n",
       "      <td>GILBERTO PISELO DO NASCIMENTO</td>\n",
       "      <td>001/16</td>\n",
       "      <td>04/01/2016</td>\n",
       "      <td>Despesa com pagamento de aluguel, utilizado pa...</td>\n",
       "      <td>6000</td>\n",
       "    </tr>\n",
       "    <tr>\n",
       "      <th>3</th>\n",
       "      <td>2016</td>\n",
       "      <td>1</td>\n",
       "      <td>ACIR GURGACZ</td>\n",
       "      <td>Rent of real estate for political office, comp...</td>\n",
       "      <td>05.423.963/0001-11</td>\n",
       "      <td>OI MÓVEL S.A.</td>\n",
       "      <td>661639001</td>\n",
       "      <td>16/01/2016</td>\n",
       "      <td>despesa com pagamento de telefonia para o escr...</td>\n",
       "      <td>407,48</td>\n",
       "    </tr>\n",
       "    <tr>\n",
       "      <th>4</th>\n",
       "      <td>2016</td>\n",
       "      <td>1</td>\n",
       "      <td>ACIR GURGACZ</td>\n",
       "      <td>Acquisition of consumables for use in the poli...</td>\n",
       "      <td>62.652.961/0001-38</td>\n",
       "      <td>AGÊNCIA ESTADO S.A.</td>\n",
       "      <td>00608918</td>\n",
       "      <td>06/01/2016</td>\n",
       "      <td>Aquisição de publicação virtual de conteúdo jo...</td>\n",
       "      <td>550</td>\n",
       "    </tr>\n",
       "  </tbody>\n",
       "</table>\n",
       "</div>"
      ],
      "text/plain": [
       "   year  month congressperson_name  \\\n",
       "0  2016      1        ACIR GURGACZ   \n",
       "1  2016      1        ACIR GURGACZ   \n",
       "2  2016      1        ACIR GURGACZ   \n",
       "3  2016      1        ACIR GURGACZ   \n",
       "4  2016      1        ACIR GURGACZ   \n",
       "\n",
       "                                        expense_type            cnpj_cpf  \\\n",
       "0  Rent of real estate for political office, comp...  05.914.650/0001-66   \n",
       "1  Rent of real estate for political office, comp...  05.914.650/0001-66   \n",
       "2  Rent of real estate for political office, comp...      004.948.028-63   \n",
       "3  Rent of real estate for political office, comp...  05.423.963/0001-11   \n",
       "4  Acquisition of consumables for use in the poli...  62.652.961/0001-38   \n",
       "\n",
       "                           supplier document_id        date  \\\n",
       "0  ELETROBRÁS DISTRIBUIÇÃO RONDÔNIA   000011328  13/01/2016   \n",
       "1  ELETROBRÁS DISTRIBUIÇÃO RONDÔNIA   000011327  18/01/2016   \n",
       "2     GILBERTO PISELO DO NASCIMENTO      001/16  04/01/2016   \n",
       "3                     OI MÓVEL S.A.   661639001  16/01/2016   \n",
       "4               AGÊNCIA ESTADO S.A.    00608918  06/01/2016   \n",
       "\n",
       "                                     expense_details reimbursement_value  \n",
       "0  Despesa com pagamento de energia elétrica para...                73,6  \n",
       "1  Pagamento de energia elétrica para o escritóri...              206,84  \n",
       "2  Despesa com pagamento de aluguel, utilizado pa...                6000  \n",
       "3  despesa com pagamento de telefonia para o escr...              407,48  \n",
       "4  Aquisição de publicação virtual de conteúdo jo...                 550  "
      ]
     },
     "execution_count": 1,
     "metadata": {},
     "output_type": "execute_result"
    }
   ],
   "source": [
    "import pandas\n",
    "df = pandas.read_csv(\"/dados/federal-senate-2016\")\n",
    "df.head()"
   ]
  },
  {
   "cell_type": "markdown",
   "metadata": {},
   "source": [
    "Com pandas podemos importar arquivos de varios formatos e transforma-los em Data Frames, que são um formato de dados tabular com linhas e colunas indexaveis.\n",
    "\n",
    "-----------------------------------\n",
    "\n",
    "### lendo html"
   ]
  },
  {
   "cell_type": "code",
   "execution_count": 2,
   "metadata": {},
   "outputs": [
    {
     "data": {
      "text/html": [
       "<div>\n",
       "<style>\n",
       "    .dataframe thead tr:only-child th {\n",
       "        text-align: right;\n",
       "    }\n",
       "\n",
       "    .dataframe thead th {\n",
       "        text-align: left;\n",
       "    }\n",
       "\n",
       "    .dataframe tbody tr th {\n",
       "        vertical-align: top;\n",
       "    }\n",
       "</style>\n",
       "<table border=\"1\" class=\"dataframe\">\n",
       "  <thead>\n",
       "    <tr style=\"text-align: right;\">\n",
       "      <th></th>\n",
       "      <th>Club</th>\n",
       "      <th>Position in 2016</th>\n",
       "      <th>First season in  top division</th>\n",
       "      <th>Seasons in Taça  Brasil</th>\n",
       "      <th>Seasons in Robertão</th>\n",
       "      <th>Seasons in Brasileirão</th>\n",
       "      <th>Top  division titles</th>\n",
       "      <th>Last top division  title</th>\n",
       "    </tr>\n",
       "  </thead>\n",
       "  <tbody>\n",
       "    <tr>\n",
       "      <th>0</th>\n",
       "      <td>Atlético Goianiense</td>\n",
       "      <td>1st in  Série B</td>\n",
       "      <td>1965</td>\n",
       "      <td>2</td>\n",
       "      <td>0</td>\n",
       "      <td>8</td>\n",
       "      <td>0</td>\n",
       "      <td>NaN</td>\n",
       "    </tr>\n",
       "    <tr>\n",
       "      <th>1</th>\n",
       "      <td>Atlético Mineiro</td>\n",
       "      <td>4th</td>\n",
       "      <td>1959</td>\n",
       "      <td>4</td>\n",
       "      <td>4</td>\n",
       "      <td>46</td>\n",
       "      <td>1</td>\n",
       "      <td>1971.0</td>\n",
       "    </tr>\n",
       "    <tr>\n",
       "      <th>2</th>\n",
       "      <td>Atlético Paranaense</td>\n",
       "      <td>6th</td>\n",
       "      <td>1959</td>\n",
       "      <td>1</td>\n",
       "      <td>2</td>\n",
       "      <td>38</td>\n",
       "      <td>1</td>\n",
       "      <td>2001.0</td>\n",
       "    </tr>\n",
       "    <tr>\n",
       "      <th>3</th>\n",
       "      <td>Avaí</td>\n",
       "      <td>2nd in Série B</td>\n",
       "      <td>1974</td>\n",
       "      <td>0</td>\n",
       "      <td>0</td>\n",
       "      <td>9</td>\n",
       "      <td>0</td>\n",
       "      <td>NaN</td>\n",
       "    </tr>\n",
       "    <tr>\n",
       "      <th>4</th>\n",
       "      <td>Bahia</td>\n",
       "      <td>4th in Série B</td>\n",
       "      <td>1962</td>\n",
       "      <td>6</td>\n",
       "      <td>3</td>\n",
       "      <td>36</td>\n",
       "      <td>2</td>\n",
       "      <td>1988.0</td>\n",
       "    </tr>\n",
       "  </tbody>\n",
       "</table>\n",
       "</div>"
      ],
      "text/plain": [
       "                  Club Position in 2016  First season in  top division  \\\n",
       "0  Atlético Goianiense  1st in  Série B                           1965   \n",
       "1     Atlético Mineiro              4th                           1959   \n",
       "2  Atlético Paranaense              6th                           1959   \n",
       "3                 Avaí   2nd in Série B                           1974   \n",
       "4                Bahia   4th in Série B                           1962   \n",
       "\n",
       "   Seasons in Taça  Brasil  Seasons in Robertão  Seasons in Brasileirão  \\\n",
       "0                        2                    0                       8   \n",
       "1                        4                    4                      46   \n",
       "2                        1                    2                      38   \n",
       "3                        0                    0                       9   \n",
       "4                        6                    3                      36   \n",
       "\n",
       "   Top  division titles  Last top division  title  \n",
       "0                     0                       NaN  \n",
       "1                     1                    1971.0  \n",
       "2                     1                    2001.0  \n",
       "3                     0                       NaN  \n",
       "4                     2                    1988.0  "
      ]
     },
     "execution_count": 2,
     "metadata": {},
     "output_type": "execute_result"
    }
   ],
   "source": [
    "brasileirao = pandas.read_html(\"brasileirao2016.html\", encoding=\"utf-8\")[0]\n",
    "brasileirao.head()"
   ]
  },
  {
   "cell_type": "markdown",
   "metadata": {},
   "source": [
    "---------------------\n",
    "\n",
    "Depois de importarmos os dados, vamos conhece-lo melhor."
   ]
  },
  {
   "cell_type": "code",
   "execution_count": 3,
   "metadata": {},
   "outputs": [
    {
     "data": {
      "text/plain": [
       "(26691, 10)"
      ]
     },
     "execution_count": 3,
     "metadata": {},
     "output_type": "execute_result"
    }
   ],
   "source": [
    "# (linhas, colunas)\n",
    "df.shape"
   ]
  },
  {
   "cell_type": "code",
   "execution_count": 4,
   "metadata": {},
   "outputs": [
    {
     "data": {
      "text/plain": [
       "Index(['year', 'month', 'congressperson_name', 'expense_type', 'cnpj_cpf',\n",
       "       'supplier', 'document_id', 'date', 'expense_details',\n",
       "       'reimbursement_value'],\n",
       "      dtype='object')"
      ]
     },
     "execution_count": 4,
     "metadata": {},
     "output_type": "execute_result"
    }
   ],
   "source": [
    "df.columns\n",
    "\n"
   ]
  },
  {
   "cell_type": "code",
   "execution_count": 5,
   "metadata": {},
   "outputs": [
    {
     "data": {
      "text/plain": [
       "year                    int64\n",
       "month                   int64\n",
       "congressperson_name    object\n",
       "expense_type           object\n",
       "cnpj_cpf               object\n",
       "supplier               object\n",
       "document_id            object\n",
       "date                   object\n",
       "expense_details        object\n",
       "reimbursement_value    object\n",
       "dtype: object"
      ]
     },
     "execution_count": 5,
     "metadata": {},
     "output_type": "execute_result"
    }
   ],
   "source": [
    "# tipo de cada coluna\n",
    "df.dtypes"
   ]
  },
  {
   "cell_type": "code",
   "execution_count": 6,
   "metadata": {},
   "outputs": [
    {
     "data": {
      "text/html": [
       "<div>\n",
       "<style>\n",
       "    .dataframe thead tr:only-child th {\n",
       "        text-align: right;\n",
       "    }\n",
       "\n",
       "    .dataframe thead th {\n",
       "        text-align: left;\n",
       "    }\n",
       "\n",
       "    .dataframe tbody tr th {\n",
       "        vertical-align: top;\n",
       "    }\n",
       "</style>\n",
       "<table border=\"1\" class=\"dataframe\">\n",
       "  <thead>\n",
       "    <tr style=\"text-align: right;\">\n",
       "      <th></th>\n",
       "      <th>year</th>\n",
       "      <th>month</th>\n",
       "      <th>congressperson_name</th>\n",
       "      <th>expense_type</th>\n",
       "      <th>cnpj_cpf</th>\n",
       "      <th>supplier</th>\n",
       "      <th>document_id</th>\n",
       "      <th>date</th>\n",
       "      <th>expense_details</th>\n",
       "      <th>reimbursement_value</th>\n",
       "    </tr>\n",
       "  </thead>\n",
       "  <tbody>\n",
       "    <tr>\n",
       "      <th>0</th>\n",
       "      <td>2016</td>\n",
       "      <td>1</td>\n",
       "      <td>ACIR GURGACZ</td>\n",
       "      <td>Rent of real estate for political office, comp...</td>\n",
       "      <td>05.914.650/0001-66</td>\n",
       "      <td>ELETROBRÁS DISTRIBUIÇÃO RONDÔNIA</td>\n",
       "      <td>000011328</td>\n",
       "      <td>13/01/2016</td>\n",
       "      <td>Despesa com pagamento de energia elétrica para...</td>\n",
       "      <td>73,6</td>\n",
       "    </tr>\n",
       "    <tr>\n",
       "      <th>1</th>\n",
       "      <td>2016</td>\n",
       "      <td>1</td>\n",
       "      <td>ACIR GURGACZ</td>\n",
       "      <td>Rent of real estate for political office, comp...</td>\n",
       "      <td>05.914.650/0001-66</td>\n",
       "      <td>ELETROBRÁS DISTRIBUIÇÃO RONDÔNIA</td>\n",
       "      <td>000011327</td>\n",
       "      <td>18/01/2016</td>\n",
       "      <td>Pagamento de energia elétrica para o escritóri...</td>\n",
       "      <td>206,84</td>\n",
       "    </tr>\n",
       "    <tr>\n",
       "      <th>2</th>\n",
       "      <td>2016</td>\n",
       "      <td>1</td>\n",
       "      <td>ACIR GURGACZ</td>\n",
       "      <td>Rent of real estate for political office, comp...</td>\n",
       "      <td>004.948.028-63</td>\n",
       "      <td>GILBERTO PISELO DO NASCIMENTO</td>\n",
       "      <td>001/16</td>\n",
       "      <td>04/01/2016</td>\n",
       "      <td>Despesa com pagamento de aluguel, utilizado pa...</td>\n",
       "      <td>6000</td>\n",
       "    </tr>\n",
       "    <tr>\n",
       "      <th>3</th>\n",
       "      <td>2016</td>\n",
       "      <td>1</td>\n",
       "      <td>ACIR GURGACZ</td>\n",
       "      <td>Rent of real estate for political office, comp...</td>\n",
       "      <td>05.423.963/0001-11</td>\n",
       "      <td>OI MÓVEL S.A.</td>\n",
       "      <td>661639001</td>\n",
       "      <td>16/01/2016</td>\n",
       "      <td>despesa com pagamento de telefonia para o escr...</td>\n",
       "      <td>407,48</td>\n",
       "    </tr>\n",
       "    <tr>\n",
       "      <th>4</th>\n",
       "      <td>2016</td>\n",
       "      <td>1</td>\n",
       "      <td>ACIR GURGACZ</td>\n",
       "      <td>Acquisition of consumables for use in the poli...</td>\n",
       "      <td>62.652.961/0001-38</td>\n",
       "      <td>AGÊNCIA ESTADO S.A.</td>\n",
       "      <td>00608918</td>\n",
       "      <td>06/01/2016</td>\n",
       "      <td>Aquisição de publicação virtual de conteúdo jo...</td>\n",
       "      <td>550</td>\n",
       "    </tr>\n",
       "  </tbody>\n",
       "</table>\n",
       "</div>"
      ],
      "text/plain": [
       "   year  month congressperson_name  \\\n",
       "0  2016      1        ACIR GURGACZ   \n",
       "1  2016      1        ACIR GURGACZ   \n",
       "2  2016      1        ACIR GURGACZ   \n",
       "3  2016      1        ACIR GURGACZ   \n",
       "4  2016      1        ACIR GURGACZ   \n",
       "\n",
       "                                        expense_type            cnpj_cpf  \\\n",
       "0  Rent of real estate for political office, comp...  05.914.650/0001-66   \n",
       "1  Rent of real estate for political office, comp...  05.914.650/0001-66   \n",
       "2  Rent of real estate for political office, comp...      004.948.028-63   \n",
       "3  Rent of real estate for political office, comp...  05.423.963/0001-11   \n",
       "4  Acquisition of consumables for use in the poli...  62.652.961/0001-38   \n",
       "\n",
       "                           supplier document_id        date  \\\n",
       "0  ELETROBRÁS DISTRIBUIÇÃO RONDÔNIA   000011328  13/01/2016   \n",
       "1  ELETROBRÁS DISTRIBUIÇÃO RONDÔNIA   000011327  18/01/2016   \n",
       "2     GILBERTO PISELO DO NASCIMENTO      001/16  04/01/2016   \n",
       "3                     OI MÓVEL S.A.   661639001  16/01/2016   \n",
       "4               AGÊNCIA ESTADO S.A.    00608918  06/01/2016   \n",
       "\n",
       "                                     expense_details reimbursement_value  \n",
       "0  Despesa com pagamento de energia elétrica para...                73,6  \n",
       "1  Pagamento de energia elétrica para o escritóri...              206,84  \n",
       "2  Despesa com pagamento de aluguel, utilizado pa...                6000  \n",
       "3  despesa com pagamento de telefonia para o escr...              407,48  \n",
       "4  Aquisição de publicação virtual de conteúdo jo...                 550  "
      ]
     },
     "execution_count": 6,
     "metadata": {},
     "output_type": "execute_result"
    }
   ],
   "source": [
    "# os primeiros 5 elementos do Data Frame\n",
    "df.head()"
   ]
  },
  {
   "cell_type": "code",
   "execution_count": 7,
   "metadata": {},
   "outputs": [
    {
     "data": {
      "text/plain": [
       "year     2016.000000\n",
       "month       6.470908\n",
       "dtype: float64"
      ]
     },
     "execution_count": 7,
     "metadata": {},
     "output_type": "execute_result"
    }
   ],
   "source": [
    "df.mean()"
   ]
  },
  {
   "cell_type": "markdown",
   "metadata": {},
   "source": [
    "-------------\n",
    "Opa, temos um problema. Não foi gerado media para a coluna de `reimbursement_value`, porque ela não é está representada como um tipo numerico, e sim como object.\n",
    "\n",
    "Teremos que transforma-la em uma coluna tipo `float64`"
   ]
  },
  {
   "cell_type": "code",
   "execution_count": 8,
   "metadata": {
    "collapsed": true
   },
   "outputs": [],
   "source": [
    "df.reimbursement_value = df.reimbursement_value.str.replace(\",\", \".\")"
   ]
  },
  {
   "cell_type": "code",
   "execution_count": 9,
   "metadata": {
    "collapsed": true
   },
   "outputs": [],
   "source": [
    "df.reimbursement_value = df.reimbursement_value.astype(float)"
   ]
  },
  {
   "cell_type": "code",
   "execution_count": 10,
   "metadata": {},
   "outputs": [
    {
     "data": {
      "text/plain": [
       "0      73.60\n",
       "1     206.84\n",
       "2    6000.00\n",
       "3     407.48\n",
       "4     550.00\n",
       "Name: reimbursement_value, dtype: float64"
      ]
     },
     "execution_count": 10,
     "metadata": {},
     "output_type": "execute_result"
    }
   ],
   "source": [
    "df.reimbursement_value.head()"
   ]
  },
  {
   "cell_type": "markdown",
   "metadata": {},
   "source": [
    "----------\n",
    "Pronto, agora vamos verificar se deu certo."
   ]
  },
  {
   "cell_type": "code",
   "execution_count": 11,
   "metadata": {},
   "outputs": [
    {
     "data": {
      "text/plain": [
       "year                   2016.000000\n",
       "month                     6.470908\n",
       "reimbursement_value     947.484513\n",
       "dtype: float64"
      ]
     },
     "execution_count": 11,
     "metadata": {},
     "output_type": "execute_result"
    }
   ],
   "source": [
    "df.mean()"
   ]
  },
  {
   "cell_type": "markdown",
   "metadata": {},
   "source": [
    "------------\n",
    "As medias das colunas `month` e `year` não importam pra gente, então vamos olhar só pra coluna de reembolso.\n",
    "Com pandas podemos pegar varias estatisticas que descrevem uma distribuição."
   ]
  },
  {
   "cell_type": "code",
   "execution_count": 12,
   "metadata": {},
   "outputs": [
    {
     "data": {
      "text/plain": [
       "947.48451313176724"
      ]
     },
     "execution_count": 12,
     "metadata": {},
     "output_type": "execute_result"
    }
   ],
   "source": [
    "df.reimbursement_value.mean()"
   ]
  },
  {
   "cell_type": "code",
   "execution_count": 13,
   "metadata": {},
   "outputs": [
    {
     "data": {
      "text/plain": [
       "324.79"
      ]
     },
     "execution_count": 13,
     "metadata": {},
     "output_type": "execute_result"
    }
   ],
   "source": [
    "df.reimbursement_value.median()"
   ]
  },
  {
   "cell_type": "code",
   "execution_count": 14,
   "metadata": {},
   "outputs": [
    {
     "data": {
      "text/plain": [
       "0    100.0\n",
       "dtype: float64"
      ]
     },
     "execution_count": 14,
     "metadata": {},
     "output_type": "execute_result"
    }
   ],
   "source": [
    "df.reimbursement_value.mode()"
   ]
  },
  {
   "cell_type": "code",
   "execution_count": 15,
   "metadata": {},
   "outputs": [
    {
     "data": {
      "text/plain": [
       "2733.8200368509724"
      ]
     },
     "execution_count": 15,
     "metadata": {},
     "output_type": "execute_result"
    }
   ],
   "source": [
    "df.reimbursement_value.std()"
   ]
  },
  {
   "cell_type": "code",
   "execution_count": 16,
   "metadata": {},
   "outputs": [
    {
     "data": {
      "text/plain": [
       "7473771.9938878519"
      ]
     },
     "execution_count": 16,
     "metadata": {},
     "output_type": "execute_result"
    }
   ],
   "source": [
    "df.reimbursement_value.var()"
   ]
  },
  {
   "cell_type": "code",
   "execution_count": 17,
   "metadata": {},
   "outputs": [
    {
     "data": {
      "text/plain": [
       "256980.0"
      ]
     },
     "execution_count": 17,
     "metadata": {},
     "output_type": "execute_result"
    }
   ],
   "source": [
    "df.reimbursement_value.max()"
   ]
  },
  {
   "cell_type": "code",
   "execution_count": 18,
   "metadata": {},
   "outputs": [
    {
     "data": {
      "text/plain": [
       "0.01"
      ]
     },
     "execution_count": 18,
     "metadata": {},
     "output_type": "execute_result"
    }
   ],
   "source": [
    "df.reimbursement_value.min()"
   ]
  },
  {
   "cell_type": "markdown",
   "metadata": {},
   "source": [
    "-------------\n",
    "### estatisticas descritivas\n",
    "São metricas que nos ajudam a entender uma distribuição de valores, nesse caso os dados de reembolso dos nossos senadores.\n",
    "\n",
    "- Media: soma dos valores / quantidade de valores\n",
    "- Mediana: valor que divide a distribuição ao meio. Tambem pode ser referenciada como percentil 50.\n",
    "- Moda: valor mais frequente da distribuição\n",
    "- Desvio Padrão: valor mais comum de variação da media\n",
    "- Variancia: mostra a dispersão quadratica da distribuição. Quanto maior mais dispersa é a distribuição.\n",
    "- Max: valor mais alto da distribuição\n",
    "- Min: valor mais baixo da distribuição"
   ]
  },
  {
   "cell_type": "code",
   "execution_count": 19,
   "metadata": {},
   "outputs": [
    {
     "data": {
      "text/plain": [
       "count     26691.000000\n",
       "mean        947.484513\n",
       "std        2733.820037\n",
       "min           0.010000\n",
       "25%         124.000000\n",
       "50%         324.790000\n",
       "75%         956.865000\n",
       "max      256980.000000\n",
       "Name: reimbursement_value, dtype: float64"
      ]
     },
     "execution_count": 19,
     "metadata": {},
     "output_type": "execute_result"
    }
   ],
   "source": [
    "# podemos ver essas metricas juntas\n",
    "df.reimbursement_value.describe()"
   ]
  },
  {
   "cell_type": "markdown",
   "metadata": {},
   "source": [
    "----------\n",
    "Outra parte importante da analise é saber se seus dados estão completos e, se incompletos, podem ser usados.\n",
    "No caso desses dados, temos alguns dados faltando mas isso não vai impactar na analise que faremos aqui."
   ]
  },
  {
   "cell_type": "code",
   "execution_count": 20,
   "metadata": {},
   "outputs": [
    {
     "name": "stdout",
     "output_type": "stream",
     "text": [
      "<class 'pandas.core.frame.DataFrame'>\n",
      "RangeIndex: 26691 entries, 0 to 26690\n",
      "Data columns (total 10 columns):\n",
      "year                   26691 non-null int64\n",
      "month                  26691 non-null int64\n",
      "congressperson_name    26691 non-null object\n",
      "expense_type           26691 non-null object\n",
      "cnpj_cpf               26691 non-null object\n",
      "supplier               26691 non-null object\n",
      "document_id            24647 non-null object\n",
      "date                   26691 non-null object\n",
      "expense_details        21308 non-null object\n",
      "reimbursement_value    26691 non-null float64\n",
      "dtypes: float64(1), int64(2), object(7)\n",
      "memory usage: 2.0+ MB\n"
     ]
    }
   ],
   "source": [
    "# quantos dados não estão nulos no seu DataFrame.\n",
    "df.info()"
   ]
  },
  {
   "cell_type": "markdown",
   "metadata": {},
   "source": [
    "-------------\n",
    "Quem pediu o maior reembolso e quem pediu o menor?"
   ]
  },
  {
   "cell_type": "code",
   "execution_count": 21,
   "metadata": {
    "scrolled": true
   },
   "outputs": [
    {
     "data": {
      "text/plain": [
       "year                                                        2016\n",
       "month                                                         12\n",
       "congressperson_name                              DAVI ALCOLUMBRE\n",
       "expense_type                 Publicity of parliamentary activity\n",
       "cnpj_cpf                                      04.953.008/0001-23\n",
       "supplier               ARTE & IMAGEM GRAFICA E EDITORA EIRELI ME\n",
       "document_id                                                  202\n",
       "date                                                  22/03/2017\n",
       "expense_details                                              NaN\n",
       "reimbursement_value                                       256980\n",
       "Name: 4637, dtype: object"
      ]
     },
     "execution_count": 21,
     "metadata": {},
     "output_type": "execute_result"
    }
   ],
   "source": [
    "df.loc[df.reimbursement_value.idxmax()]"
   ]
  },
  {
   "cell_type": "code",
   "execution_count": 22,
   "metadata": {},
   "outputs": [
    {
     "data": {
      "text/plain": [
       "year                                                                2016\n",
       "month                                                                  3\n",
       "congressperson_name                              FERNANDO BEZERRA COELHO\n",
       "expense_type                      National air, water and land transport\n",
       "cnpj_cpf                                              07.575.651/0001-59\n",
       "supplier                                                             GOL\n",
       "document_id                                                       NFPJ4Z\n",
       "date                                                          22/03/2016\n",
       "expense_details        Companhia Aérea: GOL, Localizador: NFPJ4Z. Pas...\n",
       "reimbursement_value                                                 0.01\n",
       "Name: 6847, dtype: object"
      ]
     },
     "execution_count": 22,
     "metadata": {},
     "output_type": "execute_result"
    }
   ],
   "source": [
    "df.loc[df.reimbursement_value.idxmin()]"
   ]
  },
  {
   "cell_type": "markdown",
   "metadata": {},
   "source": [
    "----------------\n",
    "\n",
    "## Conhecendo mais dos dados\n",
    "\n",
    "Estes numeros sozinhos não dizem muita coisa, por isso vamos plotar alguns graficos para nos ajudar a entender melhor o que eles representam."
   ]
  },
  {
   "cell_type": "code",
   "execution_count": 23,
   "metadata": {
    "collapsed": true
   },
   "outputs": [],
   "source": [
    "import matplotlib\n",
    "# essa linha serve para exibir os graficos direto no jupyter notebook\n",
    "% matplotlib inline\n",
    "matplotlib.style.use('ggplot') # graficos mais bonitos com ggplot"
   ]
  },
  {
   "cell_type": "code",
   "execution_count": 24,
   "metadata": {},
   "outputs": [
    {
     "data": {
      "text/plain": [
       "<matplotlib.axes._subplots.AxesSubplot at 0x7fb5782f5a90>"
      ]
     },
     "execution_count": 24,
     "metadata": {},
     "output_type": "execute_result"
    },
    {
     "data": {
      "image/png": "[encoded data removed]",
      "text/plain": [
       "<matplotlib.figure.Figure at 0x7fb578535668>"
      ]
     },
     "metadata": {},
     "output_type": "display_data"
    }
   ],
   "source": [
    "df.reimbursement_value.hist(figsize=(10,10))"
   ]
  },
  {
   "cell_type": "code",
   "execution_count": 25,
   "metadata": {},
   "outputs": [
    {
     "data": {
      "text/plain": [
       "<matplotlib.axes._subplots.AxesSubplot at 0x7fb57835e8d0>"
      ]
     },
     "execution_count": 25,
     "metadata": {},
     "output_type": "execute_result"
    },
    {
     "data": {
      "image/png": "[encoded data removed]",
      "text/plain": [
       "<matplotlib.figure.Figure at 0x7fb5782e3710>"
      ]
     },
     "metadata": {},
     "output_type": "display_data"
    }
   ],
   "source": [
    "df.reimbursement_value.plot(kind=\"density\", figsize=(10,10))"
   ]
  },
  {
   "cell_type": "markdown",
   "metadata": {},
   "source": [
    "Não ajudou muito pois nossa distribuição é muito esparsa. Podemos pegar um `sample` da distribuição para tentar entende-la melhor"
   ]
  },
  {
   "cell_type": "code",
   "execution_count": 26,
   "metadata": {},
   "outputs": [
    {
     "data": {
      "text/plain": [
       "<matplotlib.axes._subplots.AxesSubplot at 0x7fb56ba603c8>"
      ]
     },
     "execution_count": 26,
     "metadata": {},
     "output_type": "execute_result"
    },
    {
     "data": {
      "image/png": "[encoded data removed]",
      "text/plain": [
       "<matplotlib.figure.Figure at 0x7fb56ba6a8d0>"
      ]
     },
     "metadata": {},
     "output_type": "display_data"
    }
   ],
   "source": [
    "df.sample(100).reimbursement_value.hist(figsize=(10,10))"
   ]
  },
  {
   "cell_type": "markdown",
   "metadata": {},
   "source": [
    "Melhorou bastante, mas ainda podemos melhorar."
   ]
  },
  {
   "cell_type": "code",
   "execution_count": 27,
   "metadata": {},
   "outputs": [
    {
     "data": {
      "text/plain": [
       "<matplotlib.axes._subplots.AxesSubplot at 0x7fb56bb22b70>"
      ]
     },
     "execution_count": 27,
     "metadata": {},
     "output_type": "execute_result"
    },
    {
     "data": {
      "image/png": "[encoded data removed]",
      "text/plain": [
       "<matplotlib.figure.Figure at 0x7fb56ba5dc18>"
      ]
     },
     "metadata": {},
     "output_type": "display_data"
    }
   ],
   "source": [
    "# bin é uma coluna do histograma que tem um range de valor. Quanto mais bins, menor esse range.\n",
    "df.sample(100).reimbursement_value.hist(figsize=(10,10), bins=100)"
   ]
  },
  {
   "cell_type": "markdown",
   "metadata": {},
   "source": [
    "-------------\n",
    "Vimos que os valores são bem dispersos, mas podemos fazer analises especificas.\n",
    "\n",
    "Vamos ver como os gastos estão distribuidos por mês"
   ]
  },
  {
   "cell_type": "code",
   "execution_count": 28,
   "metadata": {},
   "outputs": [
    {
     "data": {
      "text/plain": [
       "<matplotlib.axes._subplots.AxesSubplot at 0x7fb56bb3a6a0>"
      ]
     },
     "execution_count": 28,
     "metadata": {},
     "output_type": "execute_result"
    },
    {
     "data": {
      "image/png": "[encoded data removed]",
      "text/plain": [
       "<matplotlib.figure.Figure at 0x7fb56bb22cf8>"
      ]
     },
     "metadata": {},
     "output_type": "display_data"
    }
   ],
   "source": [
    "df.boxplot(column=\"reimbursement_value\", by=\"month\", figsize=(10,10))"
   ]
  },
  {
   "cell_type": "markdown",
   "metadata": {},
   "source": [
    "---------\n",
    "Os graficos dessa distribuição não nos ajudam muito, pois estão muito dispersos, mas podemos aplicar uma transformação para que os dados sejam mais faceis de visualizar.\n",
    "\n",
    "Podemos aplicar diversas transformações, e nesse caso vamos usar raiz quadrada pois nao queremos dados negativos."
   ]
  },
  {
   "cell_type": "code",
   "execution_count": 29,
   "metadata": {
    "collapsed": true
   },
   "outputs": [],
   "source": [
    "import numpy\n",
    "from matplotlib import pyplot\n",
    "df_sqrt = df.copy()\n",
    "df_sqrt.reimbursement_value = df.reimbursement_value.apply(numpy.sqrt)"
   ]
  },
  {
   "cell_type": "code",
   "execution_count": 30,
   "metadata": {},
   "outputs": [
    {
     "data": {
      "text/plain": [
       "<matplotlib.collections.LineCollection at 0x7fb56b64ff60>"
      ]
     },
     "execution_count": 30,
     "metadata": {},
     "output_type": "execute_result"
    },
    {
     "data": {
      "image/png": "[encoded data removed]",
      "text/plain": [
       "<matplotlib.figure.Figure at 0x7fb56b726d30>"
      ]
     },
     "metadata": {},
     "output_type": "display_data"
    }
   ],
   "source": [
    "df_sqrt.reimbursement_value.hist(figsize=(10,10), bins=100)\n",
    "pyplot.vlines(df_sqrt.mean(), # Plot black line at mean\n",
    "              ymin=0,\n",
    "              ymax=6000,\n",
    "              color=\"purple\")\n",
    "\n",
    "pyplot.vlines(df_sqrt.median(), # Plot red line at median\n",
    "            ymin=0,\n",
    "            ymax=6000,\n",
    "            color=\"yellow\")"
   ]
  },
  {
   "cell_type": "code",
   "execution_count": 31,
   "metadata": {},
   "outputs": [
    {
     "data": {
      "text/plain": [
       "<matplotlib.axes._subplots.AxesSubplot at 0x7fb56b657c88>"
      ]
     },
     "execution_count": 31,
     "metadata": {},
     "output_type": "execute_result"
    },
    {
     "data": {
      "image/png": "[encoded data removed]",
      "text/plain": [
       "<matplotlib.figure.Figure at 0x7fb56b6b75f8>"
      ]
     },
     "metadata": {},
     "output_type": "display_data"
    }
   ],
   "source": [
    "df_sqrt.reimbursement_value.plot(kind=\"density\", figsize=(10,10))"
   ]
  },
  {
   "cell_type": "code",
   "execution_count": 32,
   "metadata": {},
   "outputs": [
    {
     "data": {
      "text/plain": [
       "<matplotlib.axes._subplots.AxesSubplot at 0x7fb56afe6e48>"
      ]
     },
     "execution_count": 32,
     "metadata": {},
     "output_type": "execute_result"
    },
    {
     "data": {
      "image/png": "[encoded data removed]",
      "text/plain": [
       "<matplotlib.figure.Figure at 0x7fb56af78208>"
      ]
     },
     "metadata": {},
     "output_type": "display_data"
    }
   ],
   "source": [
    "df_sqrt.boxplot(column=\"reimbursement_value\", by=\"month\", figsize=(10,10))"
   ]
  },
  {
   "cell_type": "markdown",
   "metadata": {},
   "source": [
    "Podemos notar que muitos valores altos, fugindo do padrão da distribuição, chamamos esses valores de outliers.\n",
    "\n",
    "Outliers mexem com a media e outras estatisticas, as vezes até podem atrapalhar a avaliação dos dados.\n",
    "\n",
    "----------------\n",
    "\n",
    "Vamos ver os reembolsos agrupados pelos meses e senadores.\n",
    "\n",
    "Assim conseguimos dizer quem gastou mais num ano e num mês."
   ]
  },
  {
   "cell_type": "code",
   "execution_count": 33,
   "metadata": {},
   "outputs": [],
   "source": [
    "bymonth = df.groupby([\"month\"])\n",
    "bysenator = df.groupby([\"congressperson_name\"])"
   ]
  },
  {
   "cell_type": "code",
   "execution_count": 34,
   "metadata": {},
   "outputs": [
    {
     "data": {
      "text/html": [
       "<div>\n",
       "<style>\n",
       "    .dataframe thead tr:only-child th {\n",
       "        text-align: right;\n",
       "    }\n",
       "\n",
       "    .dataframe thead th {\n",
       "        text-align: left;\n",
       "    }\n",
       "\n",
       "    .dataframe tbody tr th {\n",
       "        vertical-align: top;\n",
       "    }\n",
       "</style>\n",
       "<table border=\"1\" class=\"dataframe\">\n",
       "  <thead>\n",
       "    <tr style=\"text-align: right;\">\n",
       "      <th></th>\n",
       "      <th>count</th>\n",
       "      <th>mean</th>\n",
       "      <th>std</th>\n",
       "      <th>min</th>\n",
       "      <th>25%</th>\n",
       "      <th>50%</th>\n",
       "      <th>75%</th>\n",
       "      <th>max</th>\n",
       "    </tr>\n",
       "    <tr>\n",
       "      <th>month</th>\n",
       "      <th></th>\n",
       "      <th></th>\n",
       "      <th></th>\n",
       "      <th></th>\n",
       "      <th></th>\n",
       "      <th></th>\n",
       "      <th></th>\n",
       "      <th></th>\n",
       "    </tr>\n",
       "  </thead>\n",
       "  <tbody>\n",
       "    <tr>\n",
       "      <th>1</th>\n",
       "      <td>1550.0</td>\n",
       "      <td>943.931329</td>\n",
       "      <td>1963.071017</td>\n",
       "      <td>1.70</td>\n",
       "      <td>111.1200</td>\n",
       "      <td>268.510</td>\n",
       "      <td>908.3150</td>\n",
       "      <td>30000.00</td>\n",
       "    </tr>\n",
       "    <tr>\n",
       "      <th>2</th>\n",
       "      <td>2127.0</td>\n",
       "      <td>929.316794</td>\n",
       "      <td>2041.279175</td>\n",
       "      <td>0.30</td>\n",
       "      <td>130.0000</td>\n",
       "      <td>329.090</td>\n",
       "      <td>839.9050</td>\n",
       "      <td>30000.00</td>\n",
       "    </tr>\n",
       "    <tr>\n",
       "      <th>3</th>\n",
       "      <td>2546.0</td>\n",
       "      <td>893.277565</td>\n",
       "      <td>1818.623741</td>\n",
       "      <td>0.01</td>\n",
       "      <td>120.0000</td>\n",
       "      <td>345.820</td>\n",
       "      <td>900.0000</td>\n",
       "      <td>30000.00</td>\n",
       "    </tr>\n",
       "    <tr>\n",
       "      <th>4</th>\n",
       "      <td>2367.0</td>\n",
       "      <td>887.507533</td>\n",
       "      <td>1871.631119</td>\n",
       "      <td>0.37</td>\n",
       "      <td>116.8850</td>\n",
       "      <td>305.630</td>\n",
       "      <td>935.9450</td>\n",
       "      <td>30000.00</td>\n",
       "    </tr>\n",
       "    <tr>\n",
       "      <th>5</th>\n",
       "      <td>2422.0</td>\n",
       "      <td>885.057981</td>\n",
       "      <td>2031.555902</td>\n",
       "      <td>3.00</td>\n",
       "      <td>115.0325</td>\n",
       "      <td>317.645</td>\n",
       "      <td>876.2500</td>\n",
       "      <td>44500.00</td>\n",
       "    </tr>\n",
       "    <tr>\n",
       "      <th>6</th>\n",
       "      <td>2562.0</td>\n",
       "      <td>862.780254</td>\n",
       "      <td>1816.950951</td>\n",
       "      <td>0.01</td>\n",
       "      <td>120.6800</td>\n",
       "      <td>300.695</td>\n",
       "      <td>856.2475</td>\n",
       "      <td>30000.00</td>\n",
       "    </tr>\n",
       "    <tr>\n",
       "      <th>7</th>\n",
       "      <td>2360.0</td>\n",
       "      <td>888.361089</td>\n",
       "      <td>1725.941843</td>\n",
       "      <td>3.60</td>\n",
       "      <td>123.8875</td>\n",
       "      <td>300.000</td>\n",
       "      <td>901.4800</td>\n",
       "      <td>30000.00</td>\n",
       "    </tr>\n",
       "    <tr>\n",
       "      <th>8</th>\n",
       "      <td>2462.0</td>\n",
       "      <td>904.189886</td>\n",
       "      <td>1888.202808</td>\n",
       "      <td>2.40</td>\n",
       "      <td>119.3250</td>\n",
       "      <td>321.450</td>\n",
       "      <td>947.7100</td>\n",
       "      <td>27655.07</td>\n",
       "    </tr>\n",
       "    <tr>\n",
       "      <th>9</th>\n",
       "      <td>2343.0</td>\n",
       "      <td>890.552548</td>\n",
       "      <td>1927.864138</td>\n",
       "      <td>2.40</td>\n",
       "      <td>120.0000</td>\n",
       "      <td>273.400</td>\n",
       "      <td>927.2800</td>\n",
       "      <td>40000.00</td>\n",
       "    </tr>\n",
       "    <tr>\n",
       "      <th>10</th>\n",
       "      <td>2181.0</td>\n",
       "      <td>926.244191</td>\n",
       "      <td>1732.743468</td>\n",
       "      <td>0.90</td>\n",
       "      <td>137.8400</td>\n",
       "      <td>356.680</td>\n",
       "      <td>1069.4700</td>\n",
       "      <td>30000.00</td>\n",
       "    </tr>\n",
       "    <tr>\n",
       "      <th>11</th>\n",
       "      <td>2042.0</td>\n",
       "      <td>998.678918</td>\n",
       "      <td>2589.771275</td>\n",
       "      <td>0.49</td>\n",
       "      <td>134.1525</td>\n",
       "      <td>409.435</td>\n",
       "      <td>1079.6175</td>\n",
       "      <td>78000.00</td>\n",
       "    </tr>\n",
       "    <tr>\n",
       "      <th>12</th>\n",
       "      <td>1729.0</td>\n",
       "      <td>1533.740364</td>\n",
       "      <td>7761.248515</td>\n",
       "      <td>0.01</td>\n",
       "      <td>142.7500</td>\n",
       "      <td>398.000</td>\n",
       "      <td>1125.6900</td>\n",
       "      <td>256980.00</td>\n",
       "    </tr>\n",
       "  </tbody>\n",
       "</table>\n",
       "</div>"
      ],
      "text/plain": [
       "        count         mean          std   min       25%      50%        75%  \\\n",
       "month                                                                         \n",
       "1      1550.0   943.931329  1963.071017  1.70  111.1200  268.510   908.3150   \n",
       "2      2127.0   929.316794  2041.279175  0.30  130.0000  329.090   839.9050   \n",
       "3      2546.0   893.277565  1818.623741  0.01  120.0000  345.820   900.0000   \n",
       "4      2367.0   887.507533  1871.631119  0.37  116.8850  305.630   935.9450   \n",
       "5      2422.0   885.057981  2031.555902  3.00  115.0325  317.645   876.2500   \n",
       "6      2562.0   862.780254  1816.950951  0.01  120.6800  300.695   856.2475   \n",
       "7      2360.0   888.361089  1725.941843  3.60  123.8875  300.000   901.4800   \n",
       "8      2462.0   904.189886  1888.202808  2.40  119.3250  321.450   947.7100   \n",
       "9      2343.0   890.552548  1927.864138  2.40  120.0000  273.400   927.2800   \n",
       "10     2181.0   926.244191  1732.743468  0.90  137.8400  356.680  1069.4700   \n",
       "11     2042.0   998.678918  2589.771275  0.49  134.1525  409.435  1079.6175   \n",
       "12     1729.0  1533.740364  7761.248515  0.01  142.7500  398.000  1125.6900   \n",
       "\n",
       "             max  \n",
       "month             \n",
       "1       30000.00  \n",
       "2       30000.00  \n",
       "3       30000.00  \n",
       "4       30000.00  \n",
       "5       44500.00  \n",
       "6       30000.00  \n",
       "7       30000.00  \n",
       "8       27655.07  \n",
       "9       40000.00  \n",
       "10      30000.00  \n",
       "11      78000.00  \n",
       "12     256980.00  "
      ]
     },
     "execution_count": 34,
     "metadata": {},
     "output_type": "execute_result"
    }
   ],
   "source": [
    "# agora sabemos as estatisticas por mês\n",
    "bymonth.reimbursement_value.describe()"
   ]
  },
  {
   "cell_type": "code",
   "execution_count": 35,
   "metadata": {},
   "outputs": [
    {
     "data": {
      "text/plain": [
       "<matplotlib.axes._subplots.AxesSubplot at 0x7fb56b037c50>"
      ]
     },
     "execution_count": 35,
     "metadata": {},
     "output_type": "execute_result"
    },
    {
     "data": {
      "image/png": "[encoded data removed]",
      "text/plain": [
       "<matplotlib.figure.Figure at 0x7fb56b0cca20>"
      ]
     },
     "metadata": {},
     "output_type": "display_data"
    }
   ],
   "source": [
    "# valores gastos por mês\n",
    "s = bymonth.reimbursement_value.sum()\n",
    "s.plot.bar(figsize=(12,12))"
   ]
  },
  {
   "cell_type": "code",
   "execution_count": 36,
   "metadata": {},
   "outputs": [
    {
     "data": {
      "text/html": [
       "<div>\n",
       "<style>\n",
       "    .dataframe thead tr:only-child th {\n",
       "        text-align: right;\n",
       "    }\n",
       "\n",
       "    .dataframe thead th {\n",
       "        text-align: left;\n",
       "    }\n",
       "\n",
       "    .dataframe tbody tr th {\n",
       "        vertical-align: top;\n",
       "    }\n",
       "</style>\n",
       "<table border=\"1\" class=\"dataframe\">\n",
       "  <thead>\n",
       "    <tr style=\"text-align: right;\">\n",
       "      <th></th>\n",
       "      <th>count</th>\n",
       "      <th>mean</th>\n",
       "      <th>std</th>\n",
       "      <th>min</th>\n",
       "      <th>25%</th>\n",
       "      <th>50%</th>\n",
       "      <th>75%</th>\n",
       "      <th>max</th>\n",
       "    </tr>\n",
       "    <tr>\n",
       "      <th>congressperson_name</th>\n",
       "      <th></th>\n",
       "      <th></th>\n",
       "      <th></th>\n",
       "      <th></th>\n",
       "      <th></th>\n",
       "      <th></th>\n",
       "      <th></th>\n",
       "      <th></th>\n",
       "    </tr>\n",
       "  </thead>\n",
       "  <tbody>\n",
       "    <tr>\n",
       "      <th>ACIR GURGACZ</th>\n",
       "      <td>140.0</td>\n",
       "      <td>2156.934857</td>\n",
       "      <td>2864.690150</td>\n",
       "      <td>40.00</td>\n",
       "      <td>591.3275</td>\n",
       "      <td>1547.590</td>\n",
       "      <td>2084.8775</td>\n",
       "      <td>19800.00</td>\n",
       "    </tr>\n",
       "    <tr>\n",
       "      <th>ALOYSIO NUNES FERREIRA</th>\n",
       "      <td>432.0</td>\n",
       "      <td>661.846296</td>\n",
       "      <td>1357.902019</td>\n",
       "      <td>5.55</td>\n",
       "      <td>104.4000</td>\n",
       "      <td>178.485</td>\n",
       "      <td>777.6025</td>\n",
       "      <td>8266.00</td>\n",
       "    </tr>\n",
       "    <tr>\n",
       "      <th>ALVARO DIAS</th>\n",
       "      <td>150.0</td>\n",
       "      <td>886.473000</td>\n",
       "      <td>435.867230</td>\n",
       "      <td>178.00</td>\n",
       "      <td>541.0450</td>\n",
       "      <td>795.505</td>\n",
       "      <td>1120.8400</td>\n",
       "      <td>2196.25</td>\n",
       "    </tr>\n",
       "    <tr>\n",
       "      <th>ANA AMÉLIA</th>\n",
       "      <td>397.0</td>\n",
       "      <td>420.882695</td>\n",
       "      <td>498.887655</td>\n",
       "      <td>8.00</td>\n",
       "      <td>72.4900</td>\n",
       "      <td>195.000</td>\n",
       "      <td>628.8600</td>\n",
       "      <td>2759.21</td>\n",
       "    </tr>\n",
       "    <tr>\n",
       "      <th>ANTONIO ANASTASIA</th>\n",
       "      <td>273.0</td>\n",
       "      <td>1144.545458</td>\n",
       "      <td>1532.358356</td>\n",
       "      <td>22.00</td>\n",
       "      <td>362.9800</td>\n",
       "      <td>633.940</td>\n",
       "      <td>1017.0000</td>\n",
       "      <td>6613.31</td>\n",
       "    </tr>\n",
       "    <tr>\n",
       "      <th>ANTÔNIO CARLOS VALADARES</th>\n",
       "      <td>155.0</td>\n",
       "      <td>1713.440452</td>\n",
       "      <td>1650.345721</td>\n",
       "      <td>250.83</td>\n",
       "      <td>577.5350</td>\n",
       "      <td>1045.000</td>\n",
       "      <td>2316.6500</td>\n",
       "      <td>5900.00</td>\n",
       "    </tr>\n",
       "    <tr>\n",
       "      <th>ARMANDO MONTEIRO</th>\n",
       "      <td>232.0</td>\n",
       "      <td>675.458707</td>\n",
       "      <td>1027.924855</td>\n",
       "      <td>4.08</td>\n",
       "      <td>169.9225</td>\n",
       "      <td>412.800</td>\n",
       "      <td>812.5225</td>\n",
       "      <td>7420.00</td>\n",
       "    </tr>\n",
       "    <tr>\n",
       "      <th>ATAÍDES OLIVEIRA</th>\n",
       "      <td>175.0</td>\n",
       "      <td>1712.092629</td>\n",
       "      <td>3079.333122</td>\n",
       "      <td>85.00</td>\n",
       "      <td>793.4100</td>\n",
       "      <td>979.400</td>\n",
       "      <td>1500.0000</td>\n",
       "      <td>17500.00</td>\n",
       "    </tr>\n",
       "    <tr>\n",
       "      <th>AÉCIO NEVES</th>\n",
       "      <td>307.0</td>\n",
       "      <td>962.006026</td>\n",
       "      <td>1854.973271</td>\n",
       "      <td>15.00</td>\n",
       "      <td>72.5000</td>\n",
       "      <td>326.600</td>\n",
       "      <td>900.0000</td>\n",
       "      <td>9000.00</td>\n",
       "    </tr>\n",
       "    <tr>\n",
       "      <th>BENEDITO DE LIRA</th>\n",
       "      <td>268.0</td>\n",
       "      <td>645.377910</td>\n",
       "      <td>856.757007</td>\n",
       "      <td>16.73</td>\n",
       "      <td>173.2675</td>\n",
       "      <td>247.790</td>\n",
       "      <td>776.2950</td>\n",
       "      <td>4000.00</td>\n",
       "    </tr>\n",
       "    <tr>\n",
       "      <th>BLAIRO MAGGI</th>\n",
       "      <td>79.0</td>\n",
       "      <td>1372.065570</td>\n",
       "      <td>2252.756787</td>\n",
       "      <td>8.80</td>\n",
       "      <td>230.3750</td>\n",
       "      <td>455.630</td>\n",
       "      <td>900.0000</td>\n",
       "      <td>7800.00</td>\n",
       "    </tr>\n",
       "    <tr>\n",
       "      <th>CIDINHO SANTOS</th>\n",
       "      <td>156.0</td>\n",
       "      <td>1489.743462</td>\n",
       "      <td>2054.534316</td>\n",
       "      <td>7.55</td>\n",
       "      <td>260.2150</td>\n",
       "      <td>661.970</td>\n",
       "      <td>1505.3800</td>\n",
       "      <td>8000.00</td>\n",
       "    </tr>\n",
       "    <tr>\n",
       "      <th>CIRO NOGUEIRA</th>\n",
       "      <td>328.0</td>\n",
       "      <td>1341.609177</td>\n",
       "      <td>1955.232902</td>\n",
       "      <td>45.00</td>\n",
       "      <td>212.2550</td>\n",
       "      <td>605.390</td>\n",
       "      <td>1440.0000</td>\n",
       "      <td>12000.00</td>\n",
       "    </tr>\n",
       "    <tr>\n",
       "      <th>CRISTOVAM BUARQUE</th>\n",
       "      <td>7.0</td>\n",
       "      <td>15371.428571</td>\n",
       "      <td>12115.377871</td>\n",
       "      <td>2100.00</td>\n",
       "      <td>10250.0000</td>\n",
       "      <td>15000.000</td>\n",
       "      <td>15000.0000</td>\n",
       "      <td>40000.00</td>\n",
       "    </tr>\n",
       "    <tr>\n",
       "      <th>CÁSSIO CUNHA LIMA</th>\n",
       "      <td>255.0</td>\n",
       "      <td>668.152549</td>\n",
       "      <td>1016.598787</td>\n",
       "      <td>10.64</td>\n",
       "      <td>150.0000</td>\n",
       "      <td>227.920</td>\n",
       "      <td>852.3650</td>\n",
       "      <td>7500.00</td>\n",
       "    </tr>\n",
       "    <tr>\n",
       "      <th>DALIRIO BEBER</th>\n",
       "      <td>544.0</td>\n",
       "      <td>393.595423</td>\n",
       "      <td>574.972304</td>\n",
       "      <td>3.00</td>\n",
       "      <td>83.7125</td>\n",
       "      <td>158.875</td>\n",
       "      <td>464.1000</td>\n",
       "      <td>3500.00</td>\n",
       "    </tr>\n",
       "    <tr>\n",
       "      <th>DAVI ALCOLUMBRE</th>\n",
       "      <td>133.0</td>\n",
       "      <td>3835.158421</td>\n",
       "      <td>22271.242467</td>\n",
       "      <td>170.00</td>\n",
       "      <td>453.7300</td>\n",
       "      <td>842.580</td>\n",
       "      <td>2100.0000</td>\n",
       "      <td>256980.00</td>\n",
       "    </tr>\n",
       "    <tr>\n",
       "      <th>DECA</th>\n",
       "      <td>128.0</td>\n",
       "      <td>1046.193438</td>\n",
       "      <td>1405.788875</td>\n",
       "      <td>9.00</td>\n",
       "      <td>151.2025</td>\n",
       "      <td>340.075</td>\n",
       "      <td>1752.0100</td>\n",
       "      <td>7125.00</td>\n",
       "    </tr>\n",
       "    <tr>\n",
       "      <th>DONIZETI NOGUEIRA</th>\n",
       "      <td>182.0</td>\n",
       "      <td>600.361868</td>\n",
       "      <td>1170.831507</td>\n",
       "      <td>25.00</td>\n",
       "      <td>100.0000</td>\n",
       "      <td>144.075</td>\n",
       "      <td>400.5000</td>\n",
       "      <td>6000.00</td>\n",
       "    </tr>\n",
       "    <tr>\n",
       "      <th>DOUGLAS CINTRA</th>\n",
       "      <td>108.0</td>\n",
       "      <td>685.209537</td>\n",
       "      <td>972.108468</td>\n",
       "      <td>22.87</td>\n",
       "      <td>173.8125</td>\n",
       "      <td>348.755</td>\n",
       "      <td>811.8900</td>\n",
       "      <td>5000.00</td>\n",
       "    </tr>\n",
       "    <tr>\n",
       "      <th>DÁRIO BERGER</th>\n",
       "      <td>442.0</td>\n",
       "      <td>723.561290</td>\n",
       "      <td>1038.533209</td>\n",
       "      <td>10.00</td>\n",
       "      <td>179.9950</td>\n",
       "      <td>319.820</td>\n",
       "      <td>732.5250</td>\n",
       "      <td>4850.00</td>\n",
       "    </tr>\n",
       "    <tr>\n",
       "      <th>EDISON LOBÃO</th>\n",
       "      <td>46.0</td>\n",
       "      <td>3294.706739</td>\n",
       "      <td>5240.292523</td>\n",
       "      <td>58.43</td>\n",
       "      <td>67.4375</td>\n",
       "      <td>174.740</td>\n",
       "      <td>9602.7450</td>\n",
       "      <td>12000.00</td>\n",
       "    </tr>\n",
       "    <tr>\n",
       "      <th>EDUARDO AMORIM</th>\n",
       "      <td>472.0</td>\n",
       "      <td>648.851992</td>\n",
       "      <td>817.621372</td>\n",
       "      <td>40.00</td>\n",
       "      <td>150.0000</td>\n",
       "      <td>272.730</td>\n",
       "      <td>891.7750</td>\n",
       "      <td>3950.00</td>\n",
       "    </tr>\n",
       "    <tr>\n",
       "      <th>EDUARDO BRAGA</th>\n",
       "      <td>116.0</td>\n",
       "      <td>2529.536379</td>\n",
       "      <td>2790.122521</td>\n",
       "      <td>30.00</td>\n",
       "      <td>1072.8000</td>\n",
       "      <td>1520.605</td>\n",
       "      <td>2688.6500</td>\n",
       "      <td>12000.00</td>\n",
       "    </tr>\n",
       "    <tr>\n",
       "      <th>EDUARDO LOPES</th>\n",
       "      <td>133.0</td>\n",
       "      <td>829.245489</td>\n",
       "      <td>2961.260094</td>\n",
       "      <td>40.49</td>\n",
       "      <td>104.2500</td>\n",
       "      <td>193.720</td>\n",
       "      <td>668.6800</td>\n",
       "      <td>33000.00</td>\n",
       "    </tr>\n",
       "    <tr>\n",
       "      <th>ELMANO FÉRRER</th>\n",
       "      <td>292.0</td>\n",
       "      <td>1469.045548</td>\n",
       "      <td>1644.973324</td>\n",
       "      <td>5.00</td>\n",
       "      <td>315.1800</td>\n",
       "      <td>823.460</td>\n",
       "      <td>2398.7175</td>\n",
       "      <td>6500.00</td>\n",
       "    </tr>\n",
       "    <tr>\n",
       "      <th>FERNANDO BEZERRA COELHO</th>\n",
       "      <td>601.0</td>\n",
       "      <td>724.029884</td>\n",
       "      <td>1459.551181</td>\n",
       "      <td>0.01</td>\n",
       "      <td>142.4800</td>\n",
       "      <td>213.110</td>\n",
       "      <td>627.4400</td>\n",
       "      <td>15000.00</td>\n",
       "    </tr>\n",
       "    <tr>\n",
       "      <th>FERNANDO COLLOR</th>\n",
       "      <td>21.0</td>\n",
       "      <td>20022.429048</td>\n",
       "      <td>7545.173689</td>\n",
       "      <td>10000.00</td>\n",
       "      <td>12000.0000</td>\n",
       "      <td>23056.200</td>\n",
       "      <td>27655.0700</td>\n",
       "      <td>28922.72</td>\n",
       "    </tr>\n",
       "    <tr>\n",
       "      <th>FLEXA RIBEIRO</th>\n",
       "      <td>341.0</td>\n",
       "      <td>1067.514194</td>\n",
       "      <td>2079.523837</td>\n",
       "      <td>35.00</td>\n",
       "      <td>125.3200</td>\n",
       "      <td>540.000</td>\n",
       "      <td>1117.1900</td>\n",
       "      <td>18000.00</td>\n",
       "    </tr>\n",
       "    <tr>\n",
       "      <th>FÁTIMA BEZERRA</th>\n",
       "      <td>635.0</td>\n",
       "      <td>528.045575</td>\n",
       "      <td>685.527010</td>\n",
       "      <td>30.00</td>\n",
       "      <td>120.0000</td>\n",
       "      <td>200.000</td>\n",
       "      <td>703.8900</td>\n",
       "      <td>7680.60</td>\n",
       "    </tr>\n",
       "    <tr>\n",
       "      <th>...</th>\n",
       "      <td>...</td>\n",
       "      <td>...</td>\n",
       "      <td>...</td>\n",
       "      <td>...</td>\n",
       "      <td>...</td>\n",
       "      <td>...</td>\n",
       "      <td>...</td>\n",
       "      <td>...</td>\n",
       "    </tr>\n",
       "    <tr>\n",
       "      <th>PINTO ITAMARATY</th>\n",
       "      <td>33.0</td>\n",
       "      <td>2587.188485</td>\n",
       "      <td>3408.834811</td>\n",
       "      <td>60.69</td>\n",
       "      <td>545.8500</td>\n",
       "      <td>1336.690</td>\n",
       "      <td>3500.0000</td>\n",
       "      <td>17500.00</td>\n",
       "    </tr>\n",
       "    <tr>\n",
       "      <th>RAIMUNDO LIRA</th>\n",
       "      <td>101.0</td>\n",
       "      <td>1726.732673</td>\n",
       "      <td>481.433503</td>\n",
       "      <td>800.00</td>\n",
       "      <td>2000.0000</td>\n",
       "      <td>2000.000</td>\n",
       "      <td>2000.0000</td>\n",
       "      <td>2000.00</td>\n",
       "    </tr>\n",
       "    <tr>\n",
       "      <th>RANDOLFE RODRIGUES</th>\n",
       "      <td>330.0</td>\n",
       "      <td>1429.841939</td>\n",
       "      <td>1686.607948</td>\n",
       "      <td>6.24</td>\n",
       "      <td>629.2200</td>\n",
       "      <td>940.000</td>\n",
       "      <td>1470.9375</td>\n",
       "      <td>11306.91</td>\n",
       "    </tr>\n",
       "    <tr>\n",
       "      <th>REGINA SOUSA</th>\n",
       "      <td>326.0</td>\n",
       "      <td>957.015736</td>\n",
       "      <td>1845.580891</td>\n",
       "      <td>16.00</td>\n",
       "      <td>68.0050</td>\n",
       "      <td>220.040</td>\n",
       "      <td>1174.6650</td>\n",
       "      <td>10000.00</td>\n",
       "    </tr>\n",
       "    <tr>\n",
       "      <th>RENAN CALHEIROS</th>\n",
       "      <td>70.0</td>\n",
       "      <td>962.280429</td>\n",
       "      <td>1131.586370</td>\n",
       "      <td>25.59</td>\n",
       "      <td>144.8900</td>\n",
       "      <td>282.400</td>\n",
       "      <td>2000.0000</td>\n",
       "      <td>3907.30</td>\n",
       "    </tr>\n",
       "    <tr>\n",
       "      <th>RICARDO FERRAÇO</th>\n",
       "      <td>296.0</td>\n",
       "      <td>944.280101</td>\n",
       "      <td>1568.568888</td>\n",
       "      <td>18.70</td>\n",
       "      <td>280.5325</td>\n",
       "      <td>423.635</td>\n",
       "      <td>973.9725</td>\n",
       "      <td>11500.00</td>\n",
       "    </tr>\n",
       "    <tr>\n",
       "      <th>RICARDO FRANCO</th>\n",
       "      <td>82.0</td>\n",
       "      <td>919.337683</td>\n",
       "      <td>1401.637879</td>\n",
       "      <td>40.00</td>\n",
       "      <td>119.6325</td>\n",
       "      <td>371.120</td>\n",
       "      <td>654.8450</td>\n",
       "      <td>4800.00</td>\n",
       "    </tr>\n",
       "    <tr>\n",
       "      <th>ROBERTO MUNIZ</th>\n",
       "      <td>357.0</td>\n",
       "      <td>528.178627</td>\n",
       "      <td>727.286524</td>\n",
       "      <td>5.45</td>\n",
       "      <td>88.0000</td>\n",
       "      <td>263.650</td>\n",
       "      <td>696.5700</td>\n",
       "      <td>4125.22</td>\n",
       "    </tr>\n",
       "    <tr>\n",
       "      <th>ROBERTO REQUIÃO</th>\n",
       "      <td>513.0</td>\n",
       "      <td>603.173762</td>\n",
       "      <td>962.259881</td>\n",
       "      <td>2.95</td>\n",
       "      <td>145.2200</td>\n",
       "      <td>227.550</td>\n",
       "      <td>661.3900</td>\n",
       "      <td>6199.95</td>\n",
       "    </tr>\n",
       "    <tr>\n",
       "      <th>ROBERTO ROCHA</th>\n",
       "      <td>116.0</td>\n",
       "      <td>3145.715690</td>\n",
       "      <td>3816.869175</td>\n",
       "      <td>10.00</td>\n",
       "      <td>200.6550</td>\n",
       "      <td>1465.575</td>\n",
       "      <td>5500.0000</td>\n",
       "      <td>22800.00</td>\n",
       "    </tr>\n",
       "    <tr>\n",
       "      <th>ROMERO JUCÁ</th>\n",
       "      <td>436.0</td>\n",
       "      <td>1023.965550</td>\n",
       "      <td>1369.313814</td>\n",
       "      <td>5.30</td>\n",
       "      <td>98.1700</td>\n",
       "      <td>396.250</td>\n",
       "      <td>1323.9975</td>\n",
       "      <td>10600.00</td>\n",
       "    </tr>\n",
       "    <tr>\n",
       "      <th>ROMÁRIO</th>\n",
       "      <td>179.0</td>\n",
       "      <td>1906.960559</td>\n",
       "      <td>2608.047684</td>\n",
       "      <td>88.80</td>\n",
       "      <td>694.0000</td>\n",
       "      <td>1089.320</td>\n",
       "      <td>1745.8400</td>\n",
       "      <td>14900.00</td>\n",
       "    </tr>\n",
       "    <tr>\n",
       "      <th>RONALDO CAIADO</th>\n",
       "      <td>579.0</td>\n",
       "      <td>407.298636</td>\n",
       "      <td>669.208603</td>\n",
       "      <td>14.00</td>\n",
       "      <td>140.3800</td>\n",
       "      <td>199.610</td>\n",
       "      <td>329.7650</td>\n",
       "      <td>4483.60</td>\n",
       "    </tr>\n",
       "    <tr>\n",
       "      <th>ROSE DE FREITAS</th>\n",
       "      <td>351.0</td>\n",
       "      <td>1128.457094</td>\n",
       "      <td>4304.023370</td>\n",
       "      <td>8.50</td>\n",
       "      <td>171.0000</td>\n",
       "      <td>801.780</td>\n",
       "      <td>1202.7750</td>\n",
       "      <td>79680.00</td>\n",
       "    </tr>\n",
       "    <tr>\n",
       "      <th>SANDRA BRAGA</th>\n",
       "      <td>41.0</td>\n",
       "      <td>2856.271951</td>\n",
       "      <td>2950.018999</td>\n",
       "      <td>566.83</td>\n",
       "      <td>1406.3600</td>\n",
       "      <td>1858.620</td>\n",
       "      <td>3484.0000</td>\n",
       "      <td>12000.00</td>\n",
       "    </tr>\n",
       "    <tr>\n",
       "      <th>SIMONE TEBET</th>\n",
       "      <td>225.0</td>\n",
       "      <td>891.971556</td>\n",
       "      <td>832.343717</td>\n",
       "      <td>33.10</td>\n",
       "      <td>475.5100</td>\n",
       "      <td>665.790</td>\n",
       "      <td>1157.7300</td>\n",
       "      <td>3923.94</td>\n",
       "    </tr>\n",
       "    <tr>\n",
       "      <th>SÉRGIO PETECÃO</th>\n",
       "      <td>125.0</td>\n",
       "      <td>3707.651600</td>\n",
       "      <td>11757.386179</td>\n",
       "      <td>72.93</td>\n",
       "      <td>356.9600</td>\n",
       "      <td>936.790</td>\n",
       "      <td>2402.8800</td>\n",
       "      <td>80000.00</td>\n",
       "    </tr>\n",
       "    <tr>\n",
       "      <th>TASSO JEREISSATI</th>\n",
       "      <td>48.0</td>\n",
       "      <td>3833.423333</td>\n",
       "      <td>5596.315142</td>\n",
       "      <td>0.30</td>\n",
       "      <td>672.2975</td>\n",
       "      <td>872.355</td>\n",
       "      <td>1583.3625</td>\n",
       "      <td>14400.00</td>\n",
       "    </tr>\n",
       "    <tr>\n",
       "      <th>TELMÁRIO MOTA</th>\n",
       "      <td>586.0</td>\n",
       "      <td>833.923072</td>\n",
       "      <td>1993.159838</td>\n",
       "      <td>0.01</td>\n",
       "      <td>60.1000</td>\n",
       "      <td>174.615</td>\n",
       "      <td>604.3850</td>\n",
       "      <td>18000.00</td>\n",
       "    </tr>\n",
       "    <tr>\n",
       "      <th>VALDIR RAUPP</th>\n",
       "      <td>309.0</td>\n",
       "      <td>1343.102395</td>\n",
       "      <td>2122.107585</td>\n",
       "      <td>24.88</td>\n",
       "      <td>162.0000</td>\n",
       "      <td>500.000</td>\n",
       "      <td>2000.0000</td>\n",
       "      <td>20000.00</td>\n",
       "    </tr>\n",
       "    <tr>\n",
       "      <th>VANESSA GRAZZIOTIN</th>\n",
       "      <td>278.0</td>\n",
       "      <td>1716.114245</td>\n",
       "      <td>2601.589275</td>\n",
       "      <td>40.00</td>\n",
       "      <td>450.0000</td>\n",
       "      <td>851.875</td>\n",
       "      <td>1808.0350</td>\n",
       "      <td>17000.00</td>\n",
       "    </tr>\n",
       "    <tr>\n",
       "      <th>VICENTINHO ALVES</th>\n",
       "      <td>74.0</td>\n",
       "      <td>4052.574595</td>\n",
       "      <td>5467.742757</td>\n",
       "      <td>274.64</td>\n",
       "      <td>481.9825</td>\n",
       "      <td>1100.000</td>\n",
       "      <td>9320.5250</td>\n",
       "      <td>30000.00</td>\n",
       "    </tr>\n",
       "    <tr>\n",
       "      <th>VIRGINIO DE CARVALHO</th>\n",
       "      <td>34.0</td>\n",
       "      <td>1365.249706</td>\n",
       "      <td>1270.231996</td>\n",
       "      <td>55.53</td>\n",
       "      <td>533.2600</td>\n",
       "      <td>1000.000</td>\n",
       "      <td>2000.0000</td>\n",
       "      <td>5200.00</td>\n",
       "    </tr>\n",
       "    <tr>\n",
       "      <th>WALDEMIR MOKA</th>\n",
       "      <td>419.0</td>\n",
       "      <td>633.981050</td>\n",
       "      <td>821.418792</td>\n",
       "      <td>50.00</td>\n",
       "      <td>146.2450</td>\n",
       "      <td>370.760</td>\n",
       "      <td>702.6150</td>\n",
       "      <td>5000.00</td>\n",
       "    </tr>\n",
       "    <tr>\n",
       "      <th>WALTER PINHEIRO</th>\n",
       "      <td>126.0</td>\n",
       "      <td>622.658889</td>\n",
       "      <td>839.184778</td>\n",
       "      <td>5.00</td>\n",
       "      <td>156.4900</td>\n",
       "      <td>401.640</td>\n",
       "      <td>636.3975</td>\n",
       "      <td>4125.22</td>\n",
       "    </tr>\n",
       "    <tr>\n",
       "      <th>WELLINGTON FAGUNDES</th>\n",
       "      <td>925.0</td>\n",
       "      <td>448.815384</td>\n",
       "      <td>1619.613354</td>\n",
       "      <td>8.00</td>\n",
       "      <td>20.0000</td>\n",
       "      <td>100.000</td>\n",
       "      <td>458.4600</td>\n",
       "      <td>40000.00</td>\n",
       "    </tr>\n",
       "    <tr>\n",
       "      <th>WILDER MORAIS</th>\n",
       "      <td>364.0</td>\n",
       "      <td>693.797802</td>\n",
       "      <td>1513.942453</td>\n",
       "      <td>2.65</td>\n",
       "      <td>87.3775</td>\n",
       "      <td>151.510</td>\n",
       "      <td>358.3500</td>\n",
       "      <td>10693.80</td>\n",
       "    </tr>\n",
       "    <tr>\n",
       "      <th>WIRLANDE DA LUZ</th>\n",
       "      <td>10.0</td>\n",
       "      <td>1129.825000</td>\n",
       "      <td>594.058339</td>\n",
       "      <td>24.33</td>\n",
       "      <td>1048.1925</td>\n",
       "      <td>1160.110</td>\n",
       "      <td>1362.0175</td>\n",
       "      <td>2234.37</td>\n",
       "    </tr>\n",
       "    <tr>\n",
       "      <th>ZEZÉ PERRELLA</th>\n",
       "      <td>398.0</td>\n",
       "      <td>810.135176</td>\n",
       "      <td>4199.936436</td>\n",
       "      <td>16.47</td>\n",
       "      <td>100.0000</td>\n",
       "      <td>200.000</td>\n",
       "      <td>599.0225</td>\n",
       "      <td>80000.00</td>\n",
       "    </tr>\n",
       "    <tr>\n",
       "      <th>ÂNGELA PORTELA</th>\n",
       "      <td>171.0</td>\n",
       "      <td>2512.315673</td>\n",
       "      <td>4580.254034</td>\n",
       "      <td>64.21</td>\n",
       "      <td>422.6300</td>\n",
       "      <td>730.000</td>\n",
       "      <td>2400.0000</td>\n",
       "      <td>28000.00</td>\n",
       "    </tr>\n",
       "  </tbody>\n",
       "</table>\n",
       "<p>93 rows × 8 columns</p>\n",
       "</div>"
      ],
      "text/plain": [
       "                          count          mean           std       min  \\\n",
       "congressperson_name                                                     \n",
       "ACIR GURGACZ              140.0   2156.934857   2864.690150     40.00   \n",
       "ALOYSIO NUNES FERREIRA    432.0    661.846296   1357.902019      5.55   \n",
       "ALVARO DIAS               150.0    886.473000    435.867230    178.00   \n",
       "ANA AMÉLIA                397.0    420.882695    498.887655      8.00   \n",
       "ANTONIO ANASTASIA         273.0   1144.545458   1532.358356     22.00   \n",
       "ANTÔNIO CARLOS VALADARES  155.0   1713.440452   1650.345721    250.83   \n",
       "ARMANDO MONTEIRO          232.0    675.458707   1027.924855      4.08   \n",
       "ATAÍDES OLIVEIRA          175.0   1712.092629   3079.333122     85.00   \n",
       "AÉCIO NEVES               307.0    962.006026   1854.973271     15.00   \n",
       "BENEDITO DE LIRA          268.0    645.377910    856.757007     16.73   \n",
       "BLAIRO MAGGI               79.0   1372.065570   2252.756787      8.80   \n",
       "CIDINHO SANTOS            156.0   1489.743462   2054.534316      7.55   \n",
       "CIRO NOGUEIRA             328.0   1341.609177   1955.232902     45.00   \n",
       "CRISTOVAM BUARQUE           7.0  15371.428571  12115.377871   2100.00   \n",
       "CÁSSIO CUNHA LIMA         255.0    668.152549   1016.598787     10.64   \n",
       "DALIRIO BEBER             544.0    393.595423    574.972304      3.00   \n",
       "DAVI ALCOLUMBRE           133.0   3835.158421  22271.242467    170.00   \n",
       "DECA                      128.0   1046.193438   1405.788875      9.00   \n",
       "DONIZETI NOGUEIRA         182.0    600.361868   1170.831507     25.00   \n",
       "DOUGLAS CINTRA            108.0    685.209537    972.108468     22.87   \n",
       "DÁRIO BERGER              442.0    723.561290   1038.533209     10.00   \n",
       "EDISON LOBÃO               46.0   3294.706739   5240.292523     58.43   \n",
       "EDUARDO AMORIM            472.0    648.851992    817.621372     40.00   \n",
       "EDUARDO BRAGA             116.0   2529.536379   2790.122521     30.00   \n",
       "EDUARDO LOPES             133.0    829.245489   2961.260094     40.49   \n",
       "ELMANO FÉRRER             292.0   1469.045548   1644.973324      5.00   \n",
       "FERNANDO BEZERRA COELHO   601.0    724.029884   1459.551181      0.01   \n",
       "FERNANDO COLLOR            21.0  20022.429048   7545.173689  10000.00   \n",
       "FLEXA RIBEIRO             341.0   1067.514194   2079.523837     35.00   \n",
       "FÁTIMA BEZERRA            635.0    528.045575    685.527010     30.00   \n",
       "...                         ...           ...           ...       ...   \n",
       "PINTO ITAMARATY            33.0   2587.188485   3408.834811     60.69   \n",
       "RAIMUNDO LIRA             101.0   1726.732673    481.433503    800.00   \n",
       "RANDOLFE RODRIGUES        330.0   1429.841939   1686.607948      6.24   \n",
       "REGINA SOUSA              326.0    957.015736   1845.580891     16.00   \n",
       "RENAN CALHEIROS            70.0    962.280429   1131.586370     25.59   \n",
       "RICARDO FERRAÇO           296.0    944.280101   1568.568888     18.70   \n",
       "RICARDO FRANCO             82.0    919.337683   1401.637879     40.00   \n",
       "ROBERTO MUNIZ             357.0    528.178627    727.286524      5.45   \n",
       "ROBERTO REQUIÃO           513.0    603.173762    962.259881      2.95   \n",
       "ROBERTO ROCHA             116.0   3145.715690   3816.869175     10.00   \n",
       "ROMERO JUCÁ               436.0   1023.965550   1369.313814      5.30   \n",
       "ROMÁRIO                   179.0   1906.960559   2608.047684     88.80   \n",
       "RONALDO CAIADO            579.0    407.298636    669.208603     14.00   \n",
       "ROSE DE FREITAS           351.0   1128.457094   4304.023370      8.50   \n",
       "SANDRA BRAGA               41.0   2856.271951   2950.018999    566.83   \n",
       "SIMONE TEBET              225.0    891.971556    832.343717     33.10   \n",
       "SÉRGIO PETECÃO            125.0   3707.651600  11757.386179     72.93   \n",
       "TASSO JEREISSATI           48.0   3833.423333   5596.315142      0.30   \n",
       "TELMÁRIO MOTA             586.0    833.923072   1993.159838      0.01   \n",
       "VALDIR RAUPP              309.0   1343.102395   2122.107585     24.88   \n",
       "VANESSA GRAZZIOTIN        278.0   1716.114245   2601.589275     40.00   \n",
       "VICENTINHO ALVES           74.0   4052.574595   5467.742757    274.64   \n",
       "VIRGINIO DE CARVALHO       34.0   1365.249706   1270.231996     55.53   \n",
       "WALDEMIR MOKA             419.0    633.981050    821.418792     50.00   \n",
       "WALTER PINHEIRO           126.0    622.658889    839.184778      5.00   \n",
       "WELLINGTON FAGUNDES       925.0    448.815384   1619.613354      8.00   \n",
       "WILDER MORAIS             364.0    693.797802   1513.942453      2.65   \n",
       "WIRLANDE DA LUZ            10.0   1129.825000    594.058339     24.33   \n",
       "ZEZÉ PERRELLA             398.0    810.135176   4199.936436     16.47   \n",
       "ÂNGELA PORTELA            171.0   2512.315673   4580.254034     64.21   \n",
       "\n",
       "                                 25%        50%         75%        max  \n",
       "congressperson_name                                                     \n",
       "ACIR GURGACZ                591.3275   1547.590   2084.8775   19800.00  \n",
       "ALOYSIO NUNES FERREIRA      104.4000    178.485    777.6025    8266.00  \n",
       "ALVARO DIAS                 541.0450    795.505   1120.8400    2196.25  \n",
       "ANA AMÉLIA                   72.4900    195.000    628.8600    2759.21  \n",
       "ANTONIO ANASTASIA           362.9800    633.940   1017.0000    6613.31  \n",
       "ANTÔNIO CARLOS VALADARES    577.5350   1045.000   2316.6500    5900.00  \n",
       "ARMANDO MONTEIRO            169.9225    412.800    812.5225    7420.00  \n",
       "ATAÍDES OLIVEIRA            793.4100    979.400   1500.0000   17500.00  \n",
       "AÉCIO NEVES                  72.5000    326.600    900.0000    9000.00  \n",
       "BENEDITO DE LIRA            173.2675    247.790    776.2950    4000.00  \n",
       "BLAIRO MAGGI                230.3750    455.630    900.0000    7800.00  \n",
       "CIDINHO SANTOS              260.2150    661.970   1505.3800    8000.00  \n",
       "CIRO NOGUEIRA               212.2550    605.390   1440.0000   12000.00  \n",
       "CRISTOVAM BUARQUE         10250.0000  15000.000  15000.0000   40000.00  \n",
       "CÁSSIO CUNHA LIMA           150.0000    227.920    852.3650    7500.00  \n",
       "DALIRIO BEBER                83.7125    158.875    464.1000    3500.00  \n",
       "DAVI ALCOLUMBRE             453.7300    842.580   2100.0000  256980.00  \n",
       "DECA                        151.2025    340.075   1752.0100    7125.00  \n",
       "DONIZETI NOGUEIRA           100.0000    144.075    400.5000    6000.00  \n",
       "DOUGLAS CINTRA              173.8125    348.755    811.8900    5000.00  \n",
       "DÁRIO BERGER                179.9950    319.820    732.5250    4850.00  \n",
       "EDISON LOBÃO                 67.4375    174.740   9602.7450   12000.00  \n",
       "EDUARDO AMORIM              150.0000    272.730    891.7750    3950.00  \n",
       "EDUARDO BRAGA              1072.8000   1520.605   2688.6500   12000.00  \n",
       "EDUARDO LOPES               104.2500    193.720    668.6800   33000.00  \n",
       "ELMANO FÉRRER               315.1800    823.460   2398.7175    6500.00  \n",
       "FERNANDO BEZERRA COELHO     142.4800    213.110    627.4400   15000.00  \n",
       "FERNANDO COLLOR           12000.0000  23056.200  27655.0700   28922.72  \n",
       "FLEXA RIBEIRO               125.3200    540.000   1117.1900   18000.00  \n",
       "FÁTIMA BEZERRA              120.0000    200.000    703.8900    7680.60  \n",
       "...                              ...        ...         ...        ...  \n",
       "PINTO ITAMARATY             545.8500   1336.690   3500.0000   17500.00  \n",
       "RAIMUNDO LIRA              2000.0000   2000.000   2000.0000    2000.00  \n",
       "RANDOLFE RODRIGUES          629.2200    940.000   1470.9375   11306.91  \n",
       "REGINA SOUSA                 68.0050    220.040   1174.6650   10000.00  \n",
       "RENAN CALHEIROS             144.8900    282.400   2000.0000    3907.30  \n",
       "RICARDO FERRAÇO             280.5325    423.635    973.9725   11500.00  \n",
       "RICARDO FRANCO              119.6325    371.120    654.8450    4800.00  \n",
       "ROBERTO MUNIZ                88.0000    263.650    696.5700    4125.22  \n",
       "ROBERTO REQUIÃO             145.2200    227.550    661.3900    6199.95  \n",
       "ROBERTO ROCHA               200.6550   1465.575   5500.0000   22800.00  \n",
       "ROMERO JUCÁ                  98.1700    396.250   1323.9975   10600.00  \n",
       "ROMÁRIO                     694.0000   1089.320   1745.8400   14900.00  \n",
       "RONALDO CAIADO              140.3800    199.610    329.7650    4483.60  \n",
       "ROSE DE FREITAS             171.0000    801.780   1202.7750   79680.00  \n",
       "SANDRA BRAGA               1406.3600   1858.620   3484.0000   12000.00  \n",
       "SIMONE TEBET                475.5100    665.790   1157.7300    3923.94  \n",
       "SÉRGIO PETECÃO              356.9600    936.790   2402.8800   80000.00  \n",
       "TASSO JEREISSATI            672.2975    872.355   1583.3625   14400.00  \n",
       "TELMÁRIO MOTA                60.1000    174.615    604.3850   18000.00  \n",
       "VALDIR RAUPP                162.0000    500.000   2000.0000   20000.00  \n",
       "VANESSA GRAZZIOTIN          450.0000    851.875   1808.0350   17000.00  \n",
       "VICENTINHO ALVES            481.9825   1100.000   9320.5250   30000.00  \n",
       "VIRGINIO DE CARVALHO        533.2600   1000.000   2000.0000    5200.00  \n",
       "WALDEMIR MOKA               146.2450    370.760    702.6150    5000.00  \n",
       "WALTER PINHEIRO             156.4900    401.640    636.3975    4125.22  \n",
       "WELLINGTON FAGUNDES          20.0000    100.000    458.4600   40000.00  \n",
       "WILDER MORAIS                87.3775    151.510    358.3500   10693.80  \n",
       "WIRLANDE DA LUZ            1048.1925   1160.110   1362.0175    2234.37  \n",
       "ZEZÉ PERRELLA               100.0000    200.000    599.0225   80000.00  \n",
       "ÂNGELA PORTELA              422.6300    730.000   2400.0000   28000.00  \n",
       "\n",
       "[93 rows x 8 columns]"
      ]
     },
     "execution_count": 36,
     "metadata": {},
     "output_type": "execute_result"
    }
   ],
   "source": [
    "bysenator.reimbursement_value.describe()"
   ]
  },
  {
   "cell_type": "code",
   "execution_count": 37,
   "metadata": {},
   "outputs": [
    {
     "data": {
      "text/plain": [
       "<pandas.core.groupby.SeriesGroupBy object at 0x7fb5785357b8>"
      ]
     },
     "execution_count": 37,
     "metadata": {},
     "output_type": "execute_result"
    }
   ],
   "source": [
    "# filtrar senador por nome\n",
    "bysenator.congressperson_name"
   ]
  },
  {
   "cell_type": "code",
   "execution_count": 38,
   "metadata": {},
   "outputs": [
    {
     "data": {
      "image/png": "[encoded data removed]",
      "text/plain": [
       "<matplotlib.figure.Figure at 0x7fb56b018358>"
      ]
     },
     "metadata": {},
     "output_type": "display_data"
    }
   ],
   "source": [
    "# valores gastos por senador\n",
    "s = bysenator.reimbursement_value.sum()\n",
    "s.sort_values(ascending=False).plot.bar(figsize=(18,18))\n",
    "pyplot.savefig(\"/dados/gasto_senadores.png\")"
   ]
  },
  {
   "cell_type": "markdown",
   "metadata": {},
   "source": [
    "---------\n",
    "Esses graficos nos ajudam a ver quais meses nossos senadores gastaram mais e quais senadores gastaram mais/menos.\n",
    "\n",
    "Visualmente podemos identificar senadores com gastos altissimos e alguns com poquissimo gasto.\n",
    "\n",
    "Vamos investigar esses casos."
   ]
  },
  {
   "cell_type": "code",
   "execution_count": 39,
   "metadata": {},
   "outputs": [
    {
     "data": {
      "text/plain": [
       "congressperson_name\n",
       "ACIR GURGACZ                 19760.00\n",
       "ALOYSIO NUNES FERREIRA        8260.45\n",
       "ALVARO DIAS                   2018.25\n",
       "ANA AMÉLIA                    2751.21\n",
       "ANTONIO ANASTASIA             6591.31\n",
       "ANTÔNIO CARLOS VALADARES      5649.17\n",
       "ARMANDO MONTEIRO              7415.92\n",
       "ATAÍDES OLIVEIRA             17415.00\n",
       "AÉCIO NEVES                   8985.00\n",
       "BENEDITO DE LIRA              3983.27\n",
       "BLAIRO MAGGI                  7791.20\n",
       "CIDINHO SANTOS                7992.45\n",
       "CIRO NOGUEIRA                11955.00\n",
       "CRISTOVAM BUARQUE            37900.00\n",
       "CÁSSIO CUNHA LIMA             7489.36\n",
       "DALIRIO BEBER                 3497.00\n",
       "DAVI ALCOLUMBRE             256810.00\n",
       "DECA                          7116.00\n",
       "DONIZETI NOGUEIRA             5975.00\n",
       "DOUGLAS CINTRA                4977.13\n",
       "DÁRIO BERGER                  4840.00\n",
       "EDISON LOBÃO                 11941.57\n",
       "EDUARDO AMORIM                3910.00\n",
       "EDUARDO BRAGA                11970.00\n",
       "EDUARDO LOPES                32959.51\n",
       "ELMANO FÉRRER                 6495.00\n",
       "FERNANDO BEZERRA COELHO      14999.99\n",
       "FERNANDO COLLOR              18922.72\n",
       "FLEXA RIBEIRO                17965.00\n",
       "FÁTIMA BEZERRA                7650.60\n",
       "                              ...    \n",
       "PINTO ITAMARATY              17439.31\n",
       "RAIMUNDO LIRA                 1200.00\n",
       "RANDOLFE RODRIGUES           11300.67\n",
       "REGINA SOUSA                  9984.00\n",
       "RENAN CALHEIROS               3881.71\n",
       "RICARDO FERRAÇO              11481.30\n",
       "RICARDO FRANCO                4760.00\n",
       "ROBERTO MUNIZ                 4119.77\n",
       "ROBERTO REQUIÃO               6197.00\n",
       "ROBERTO ROCHA                22790.00\n",
       "ROMERO JUCÁ                  10594.70\n",
       "ROMÁRIO                      14811.20\n",
       "RONALDO CAIADO                4469.60\n",
       "ROSE DE FREITAS              79671.50\n",
       "SANDRA BRAGA                 11433.17\n",
       "SIMONE TEBET                  3890.84\n",
       "SÉRGIO PETECÃO               79927.07\n",
       "TASSO JEREISSATI             14399.70\n",
       "TELMÁRIO MOTA                17999.99\n",
       "VALDIR RAUPP                 19975.12\n",
       "VANESSA GRAZZIOTIN           16960.00\n",
       "VICENTINHO ALVES             29725.36\n",
       "VIRGINIO DE CARVALHO          5144.47\n",
       "WALDEMIR MOKA                 4950.00\n",
       "WALTER PINHEIRO               4120.22\n",
       "WELLINGTON FAGUNDES          39992.00\n",
       "WILDER MORAIS                10691.15\n",
       "WIRLANDE DA LUZ               2210.04\n",
       "ZEZÉ PERRELLA                79983.53\n",
       "ÂNGELA PORTELA               27935.79\n",
       "Name: reimbursement_value, Length: 93, dtype: float64"
      ]
     },
     "execution_count": 39,
     "metadata": {},
     "output_type": "execute_result"
    }
   ],
   "source": [
    "# podemos aplicar uma função para agregar os valores de uma coluna,\n",
    "# nesse caso, vamos aplicar uma função para ver o range de valores que nossos senadores pediram de reembolso.\n",
    "def max_min(array):\n",
    "    return array.max() - array.min()\n",
    "bysenator.reimbursement_value.agg(max_min)"
   ]
  },
  {
   "cell_type": "code",
   "execution_count": 40,
   "metadata": {},
   "outputs": [],
   "source": [
    "# agora vamos tirar os dados que estão distorcendo nossa distribuição.\n",
    "clean_outliers = df[(df[\"reimbursement_value\"] < df.reimbursement_value.quantile(0.995))]"
   ]
  },
  {
   "cell_type": "code",
   "execution_count": 41,
   "metadata": {},
   "outputs": [
    {
     "data": {
      "text/plain": [
       "count    26535.000000\n",
       "mean       826.170997\n",
       "std       1374.499845\n",
       "min          0.010000\n",
       "25%        122.485000\n",
       "50%        319.260000\n",
       "75%        936.655000\n",
       "max      11944.160000\n",
       "Name: reimbursement_value, dtype: float64"
      ]
     },
     "execution_count": 41,
     "metadata": {},
     "output_type": "execute_result"
    }
   ],
   "source": [
    "clean_outliers.reimbursement_value.describe()"
   ]
  },
  {
   "cell_type": "code",
   "execution_count": 42,
   "metadata": {},
   "outputs": [
    {
     "data": {
      "text/plain": [
       "count     26691.000000\n",
       "mean        947.484513\n",
       "std        2733.820037\n",
       "min           0.010000\n",
       "25%         124.000000\n",
       "50%         324.790000\n",
       "75%         956.865000\n",
       "max      256980.000000\n",
       "Name: reimbursement_value, dtype: float64"
      ]
     },
     "execution_count": 42,
     "metadata": {},
     "output_type": "execute_result"
    }
   ],
   "source": [
    "df.reimbursement_value.describe()"
   ]
  },
  {
   "cell_type": "code",
   "execution_count": 43,
   "metadata": {},
   "outputs": [
    {
     "data": {
      "text/plain": [
       "<matplotlib.axes._subplots.AxesSubplot at 0x7fb56adabb00>"
      ]
     },
     "execution_count": 43,
     "metadata": {},
     "output_type": "execute_result"
    },
    {
     "data": {
      "image/png": "[encoded data removed]",
      "text/plain": [
       "<matplotlib.figure.Figure at 0x7fb56add1be0>"
      ]
     },
     "metadata": {},
     "output_type": "display_data"
    }
   ],
   "source": [
    "# Vamos ver se os gastos estão mais proximos na distribuição agrupada por mês.\n",
    "clean_outliers.boxplot(column=\"reimbursement_value\", by=\"month\", figsize=(10,10))"
   ]
  },
  {
   "cell_type": "markdown",
   "metadata": {},
   "source": [
    "---------\n",
    "Percentis são valores que agrupam os valores de uma distribuição,\n",
    "\n",
    "ex: percentil 25 com valor 124, significa que 25% dos dados são iguais ou menores que 124.\n",
    "\n",
    "Os percentis mais comuns são 25, 50 (mediana), 75. A diferença entre o percentil 25 e 75 é conhecido como interquartil."
   ]
  },
  {
   "cell_type": "code",
   "execution_count": 44,
   "metadata": {},
   "outputs": [
    {
     "data": {
      "text/plain": [
       "99.56539657562475"
      ]
     },
     "execution_count": 44,
     "metadata": {},
     "output_type": "execute_result"
    }
   ],
   "source": [
    "# em qual percentil um valor está\n",
    "def percentil_rank(values, value):\n",
    "    count = 0\n",
    "    for v in values:\n",
    "        if v <= value:\n",
    "            count += 1\n",
    "    return 100 * count / len(values)\n",
    "\n",
    "percentil_rank(df.reimbursement_value, 12000)"
   ]
  },
  {
   "cell_type": "markdown",
   "metadata": {},
   "source": [
    "----------------\n",
    "Vamos ver os efeitos da limpeza de outliers nos percentis da distribuição."
   ]
  },
  {
   "cell_type": "code",
   "execution_count": 45,
   "metadata": {},
   "outputs": [
    {
     "data": {
      "image/png": "[encoded data removed]",
      "text/plain": [
       "<matplotlib.figure.Figure at 0x7fb56a942c18>"
      ]
     },
     "metadata": {},
     "output_type": "display_data"
    }
   ],
   "source": [
    "def plot_percentis(dist, top=10000):\n",
    "    colors = [\"black\", \"yellow\", \"green\", \"purple\", \"blue\"]\n",
    "    percentis = [0.005, 0.25, 0.5, 0.75, 0.995]\n",
    "    for color, percentil in zip(colors, percentis):\n",
    "        pyplot.vlines(dist.quantile(percentil), # Plot black line at mean\n",
    "              ymin=0,\n",
    "              ymax=top,\n",
    "              color=color)\n",
    "\n",
    "df.reimbursement_value.hist(figsize=(10,10), bins=50)\n",
    "plot_percentis(df.reimbursement_value, 25000)"
   ]
  },
  {
   "cell_type": "code",
   "execution_count": 46,
   "metadata": {},
   "outputs": [
    {
     "data": {
      "image/png": "[encoded data removed]",
      "text/plain": [
       "<matplotlib.figure.Figure at 0x7fb56a955748>"
      ]
     },
     "metadata": {},
     "output_type": "display_data"
    }
   ],
   "source": [
    "clean_outliers.reimbursement_value.hist(figsize=(10,10), bins=50)\n",
    "plot_percentis(clean_outliers.reimbursement_value, 12000)"
   ]
  },
  {
   "cell_type": "markdown",
   "metadata": {},
   "source": [
    "------------\n",
    "\n",
    "Limpamos os outliers e vimos que a distribuição ficou mais comportada.\n",
    "Porém, nesse caso, não queremos descarta-los e sim analisa-los para saber o porque gastaram tanto."
   ]
  },
  {
   "cell_type": "code",
   "execution_count": 47,
   "metadata": {},
   "outputs": [
    {
     "data": {
      "text/plain": [
       "True"
      ]
     },
     "execution_count": 47,
     "metadata": {},
     "output_type": "execute_result"
    }
   ],
   "source": [
    "outliers = df[df[\"reimbursement_value\"] >= df.reimbursement_value.quantile(0.995)]\n",
    "outliers.reimbursement_value.describe()\n",
    "clean_outliers.reimbursement_value.count() + outliers.reimbursement_value.count() == df.reimbursement_value.count()"
   ]
  },
  {
   "cell_type": "code",
   "execution_count": 48,
   "metadata": {},
   "outputs": [],
   "source": [
    "reembolsos_senador = pandas.crosstab(index=outliers[\"congressperson_name\"], columns=\"qtd_reembolsos\")\n",
    "reembolsos_cnpj_cpf = pandas.crosstab(index=outliers[\"cnpj_cpf\"], columns=\"qtd_reembolsos\")"
   ]
  },
  {
   "cell_type": "code",
   "execution_count": 49,
   "metadata": {},
   "outputs": [
    {
     "data": {
      "text/html": [
       "<div>\n",
       "<style>\n",
       "    .dataframe thead tr:only-child th {\n",
       "        text-align: right;\n",
       "    }\n",
       "\n",
       "    .dataframe thead th {\n",
       "        text-align: left;\n",
       "    }\n",
       "\n",
       "    .dataframe tbody tr th {\n",
       "        vertical-align: top;\n",
       "    }\n",
       "</style>\n",
       "<table border=\"1\" class=\"dataframe\">\n",
       "  <thead>\n",
       "    <tr style=\"text-align: right;\">\n",
       "      <th>col_0</th>\n",
       "      <th>qtd_reembolsos</th>\n",
       "    </tr>\n",
       "    <tr>\n",
       "      <th>congressperson_name</th>\n",
       "      <th></th>\n",
       "    </tr>\n",
       "  </thead>\n",
       "  <tbody>\n",
       "    <tr>\n",
       "      <th>FERNANDO COLLOR</th>\n",
       "      <td>20</td>\n",
       "    </tr>\n",
       "    <tr>\n",
       "      <th>ÂNGELA PORTELA</th>\n",
       "      <td>13</td>\n",
       "    </tr>\n",
       "    <tr>\n",
       "      <th>EDISON LOBÃO</th>\n",
       "      <td>12</td>\n",
       "    </tr>\n",
       "    <tr>\n",
       "      <th>TASSO JEREISSATI</th>\n",
       "      <td>11</td>\n",
       "    </tr>\n",
       "    <tr>\n",
       "      <th>OMAR AZIZ</th>\n",
       "      <td>11</td>\n",
       "    </tr>\n",
       "    <tr>\n",
       "      <th>EDUARDO BRAGA</th>\n",
       "      <td>7</td>\n",
       "    </tr>\n",
       "    <tr>\n",
       "      <th>ATAÍDES OLIVEIRA</th>\n",
       "      <td>6</td>\n",
       "    </tr>\n",
       "    <tr>\n",
       "      <th>VICENTINHO ALVES</th>\n",
       "      <td>5</td>\n",
       "    </tr>\n",
       "    <tr>\n",
       "      <th>CRISTOVAM BUARQUE</th>\n",
       "      <td>5</td>\n",
       "    </tr>\n",
       "    <tr>\n",
       "      <th>GLADSON CAMELI</th>\n",
       "      <td>5</td>\n",
       "    </tr>\n",
       "    <tr>\n",
       "      <th>HÉLIO JOSÉ</th>\n",
       "      <td>5</td>\n",
       "    </tr>\n",
       "    <tr>\n",
       "      <th>JOSÉ MEDEIROS</th>\n",
       "      <td>5</td>\n",
       "    </tr>\n",
       "    <tr>\n",
       "      <th>ROBERTO ROCHA</th>\n",
       "      <td>5</td>\n",
       "    </tr>\n",
       "    <tr>\n",
       "      <th>ZEZÉ PERRELLA</th>\n",
       "      <td>5</td>\n",
       "    </tr>\n",
       "    <tr>\n",
       "      <th>TELMÁRIO MOTA</th>\n",
       "      <td>4</td>\n",
       "    </tr>\n",
       "    <tr>\n",
       "      <th>WELLINGTON FAGUNDES</th>\n",
       "      <td>3</td>\n",
       "    </tr>\n",
       "    <tr>\n",
       "      <th>SÉRGIO PETECÃO</th>\n",
       "      <td>3</td>\n",
       "    </tr>\n",
       "    <tr>\n",
       "      <th>SANDRA BRAGA</th>\n",
       "      <td>3</td>\n",
       "    </tr>\n",
       "    <tr>\n",
       "      <th>ROMÁRIO</th>\n",
       "      <td>3</td>\n",
       "    </tr>\n",
       "    <tr>\n",
       "      <th>ACIR GURGACZ</th>\n",
       "      <td>3</td>\n",
       "    </tr>\n",
       "    <tr>\n",
       "      <th>LÚCIA VÂNIA</th>\n",
       "      <td>3</td>\n",
       "    </tr>\n",
       "    <tr>\n",
       "      <th>JOÃO CAPIBERIBE</th>\n",
       "      <td>2</td>\n",
       "    </tr>\n",
       "    <tr>\n",
       "      <th>GLEISI HOFFMANN</th>\n",
       "      <td>2</td>\n",
       "    </tr>\n",
       "    <tr>\n",
       "      <th>VANESSA GRAZZIOTIN</th>\n",
       "      <td>2</td>\n",
       "    </tr>\n",
       "    <tr>\n",
       "      <th>MARCELO CRIVELLA</th>\n",
       "      <td>2</td>\n",
       "    </tr>\n",
       "    <tr>\n",
       "      <th>MARTA SUPLICY</th>\n",
       "      <td>1</td>\n",
       "    </tr>\n",
       "    <tr>\n",
       "      <th>PAULO PAIM</th>\n",
       "      <td>1</td>\n",
       "    </tr>\n",
       "    <tr>\n",
       "      <th>PINTO ITAMARATY</th>\n",
       "      <td>1</td>\n",
       "    </tr>\n",
       "    <tr>\n",
       "      <th>ROSE DE FREITAS</th>\n",
       "      <td>1</td>\n",
       "    </tr>\n",
       "    <tr>\n",
       "      <th>JOSÉ SERRA</th>\n",
       "      <td>1</td>\n",
       "    </tr>\n",
       "    <tr>\n",
       "      <th>FLEXA RIBEIRO</th>\n",
       "      <td>1</td>\n",
       "    </tr>\n",
       "    <tr>\n",
       "      <th>FERNANDO BEZERRA COELHO</th>\n",
       "      <td>1</td>\n",
       "    </tr>\n",
       "    <tr>\n",
       "      <th>VALDIR RAUPP</th>\n",
       "      <td>1</td>\n",
       "    </tr>\n",
       "    <tr>\n",
       "      <th>EDUARDO LOPES</th>\n",
       "      <td>1</td>\n",
       "    </tr>\n",
       "    <tr>\n",
       "      <th>DAVI ALCOLUMBRE</th>\n",
       "      <td>1</td>\n",
       "    </tr>\n",
       "    <tr>\n",
       "      <th>CIRO NOGUEIRA</th>\n",
       "      <td>1</td>\n",
       "    </tr>\n",
       "  </tbody>\n",
       "</table>\n",
       "</div>"
      ],
      "text/plain": [
       "col_0                    qtd_reembolsos\n",
       "congressperson_name                    \n",
       "FERNANDO COLLOR                      20\n",
       "ÂNGELA PORTELA                       13\n",
       "EDISON LOBÃO                         12\n",
       "TASSO JEREISSATI                     11\n",
       "OMAR AZIZ                            11\n",
       "EDUARDO BRAGA                         7\n",
       "ATAÍDES OLIVEIRA                      6\n",
       "VICENTINHO ALVES                      5\n",
       "CRISTOVAM BUARQUE                     5\n",
       "GLADSON CAMELI                        5\n",
       "HÉLIO JOSÉ                            5\n",
       "JOSÉ MEDEIROS                         5\n",
       "ROBERTO ROCHA                         5\n",
       "ZEZÉ PERRELLA                         5\n",
       "TELMÁRIO MOTA                         4\n",
       "WELLINGTON FAGUNDES                   3\n",
       "SÉRGIO PETECÃO                        3\n",
       "SANDRA BRAGA                          3\n",
       "ROMÁRIO                               3\n",
       "ACIR GURGACZ                          3\n",
       "LÚCIA VÂNIA                           3\n",
       "JOÃO CAPIBERIBE                       2\n",
       "GLEISI HOFFMANN                       2\n",
       "VANESSA GRAZZIOTIN                    2\n",
       "MARCELO CRIVELLA                      2\n",
       "MARTA SUPLICY                         1\n",
       "PAULO PAIM                            1\n",
       "PINTO ITAMARATY                       1\n",
       "ROSE DE FREITAS                       1\n",
       "JOSÉ SERRA                            1\n",
       "FLEXA RIBEIRO                         1\n",
       "FERNANDO BEZERRA COELHO               1\n",
       "VALDIR RAUPP                          1\n",
       "EDUARDO LOPES                         1\n",
       "DAVI ALCOLUMBRE                       1\n",
       "CIRO NOGUEIRA                         1"
      ]
     },
     "execution_count": 49,
     "metadata": {},
     "output_type": "execute_result"
    }
   ],
   "source": [
    "reembolsos_senador.sort_values(by=\"qtd_reembolsos\", ascending=False)"
   ]
  },
  {
   "cell_type": "code",
   "execution_count": 50,
   "metadata": {},
   "outputs": [
    {
     "data": {
      "text/html": [
       "<div>\n",
       "<style>\n",
       "    .dataframe thead tr:only-child th {\n",
       "        text-align: right;\n",
       "    }\n",
       "\n",
       "    .dataframe thead th {\n",
       "        text-align: left;\n",
       "    }\n",
       "\n",
       "    .dataframe tbody tr th {\n",
       "        vertical-align: top;\n",
       "    }\n",
       "</style>\n",
       "<table border=\"1\" class=\"dataframe\">\n",
       "  <thead>\n",
       "    <tr style=\"text-align: right;\">\n",
       "      <th>col_0</th>\n",
       "      <th>qtd_reembolsos</th>\n",
       "    </tr>\n",
       "    <tr>\n",
       "      <th>cnpj_cpf</th>\n",
       "      <th></th>\n",
       "    </tr>\n",
       "  </thead>\n",
       "  <tbody>\n",
       "    <tr>\n",
       "      <th>04.850.792/0001-44</th>\n",
       "      <td>12</td>\n",
       "    </tr>\n",
       "    <tr>\n",
       "      <th>146.681.063-72</th>\n",
       "      <td>12</td>\n",
       "    </tr>\n",
       "    <tr>\n",
       "      <th>20.647.510/0001-62</th>\n",
       "      <td>11</td>\n",
       "    </tr>\n",
       "    <tr>\n",
       "      <th>12.819.071/0001-08</th>\n",
       "      <td>10</td>\n",
       "    </tr>\n",
       "    <tr>\n",
       "      <th>22.793.293/0001-44</th>\n",
       "      <td>10</td>\n",
       "    </tr>\n",
       "    <tr>\n",
       "      <th>07.880.118/0001-09</th>\n",
       "      <td>8</td>\n",
       "    </tr>\n",
       "    <tr>\n",
       "      <th>16.924.825/0001-32</th>\n",
       "      <td>8</td>\n",
       "    </tr>\n",
       "    <tr>\n",
       "      <th>06.170.766/0001-09</th>\n",
       "      <td>6</td>\n",
       "    </tr>\n",
       "    <tr>\n",
       "      <th>31.350.663/0004-02</th>\n",
       "      <td>4</td>\n",
       "    </tr>\n",
       "    <tr>\n",
       "      <th>15.821.560/0001-84</th>\n",
       "      <td>4</td>\n",
       "    </tr>\n",
       "    <tr>\n",
       "      <th>15.091.068/0001-09</th>\n",
       "      <td>4</td>\n",
       "    </tr>\n",
       "    <tr>\n",
       "      <th>08.988.587/0001-09</th>\n",
       "      <td>3</td>\n",
       "    </tr>\n",
       "    <tr>\n",
       "      <th>02.450.553/0001-71</th>\n",
       "      <td>3</td>\n",
       "    </tr>\n",
       "    <tr>\n",
       "      <th>07.715.561/0001-16</th>\n",
       "      <td>3</td>\n",
       "    </tr>\n",
       "    <tr>\n",
       "      <th>11.647.802/0001-04</th>\n",
       "      <td>3</td>\n",
       "    </tr>\n",
       "    <tr>\n",
       "      <th>091.592.231-20</th>\n",
       "      <td>3</td>\n",
       "    </tr>\n",
       "    <tr>\n",
       "      <th>09.269.722/0001-10</th>\n",
       "      <td>3</td>\n",
       "    </tr>\n",
       "    <tr>\n",
       "      <th>08.470.330/0001-52</th>\n",
       "      <td>3</td>\n",
       "    </tr>\n",
       "    <tr>\n",
       "      <th>15.625.058/0001-06</th>\n",
       "      <td>2</td>\n",
       "    </tr>\n",
       "    <tr>\n",
       "      <th>02.071.707/0001-14</th>\n",
       "      <td>2</td>\n",
       "    </tr>\n",
       "    <tr>\n",
       "      <th>18.114.171/0001-07</th>\n",
       "      <td>2</td>\n",
       "    </tr>\n",
       "    <tr>\n",
       "      <th>13.129.153/0001-85</th>\n",
       "      <td>2</td>\n",
       "    </tr>\n",
       "    <tr>\n",
       "      <th>07.918.532/0001-51</th>\n",
       "      <td>2</td>\n",
       "    </tr>\n",
       "    <tr>\n",
       "      <th>04.078.478/0001-95</th>\n",
       "      <td>2</td>\n",
       "    </tr>\n",
       "    <tr>\n",
       "      <th>26.480.384/0001-80</th>\n",
       "      <td>1</td>\n",
       "    </tr>\n",
       "    <tr>\n",
       "      <th>17.389.706/0001-90</th>\n",
       "      <td>1</td>\n",
       "    </tr>\n",
       "    <tr>\n",
       "      <th>19.335.345/0002-05</th>\n",
       "      <td>1</td>\n",
       "    </tr>\n",
       "    <tr>\n",
       "      <th>84.017.888/0001-65</th>\n",
       "      <td>1</td>\n",
       "    </tr>\n",
       "    <tr>\n",
       "      <th>20.784.712/0001-56</th>\n",
       "      <td>1</td>\n",
       "    </tr>\n",
       "    <tr>\n",
       "      <th>19.327.003/0001-62</th>\n",
       "      <td>1</td>\n",
       "    </tr>\n",
       "    <tr>\n",
       "      <th>19.177.825/0001-04</th>\n",
       "      <td>1</td>\n",
       "    </tr>\n",
       "    <tr>\n",
       "      <th>18.641.448/0001-50</th>\n",
       "      <td>1</td>\n",
       "    </tr>\n",
       "    <tr>\n",
       "      <th>18.409.455/0001-20</th>\n",
       "      <td>1</td>\n",
       "    </tr>\n",
       "    <tr>\n",
       "      <th>21.793.072/0001-03</th>\n",
       "      <td>1</td>\n",
       "    </tr>\n",
       "    <tr>\n",
       "      <th>22.079.440/0001-19</th>\n",
       "      <td>1</td>\n",
       "    </tr>\n",
       "    <tr>\n",
       "      <th>73.289.340/0001-58</th>\n",
       "      <td>1</td>\n",
       "    </tr>\n",
       "    <tr>\n",
       "      <th>24.930.645/0001-91</th>\n",
       "      <td>1</td>\n",
       "    </tr>\n",
       "    <tr>\n",
       "      <th>19.572.509/0001-37</th>\n",
       "      <td>1</td>\n",
       "    </tr>\n",
       "    <tr>\n",
       "      <th>00.433.623/0001-58</th>\n",
       "      <td>1</td>\n",
       "    </tr>\n",
       "    <tr>\n",
       "      <th>17.256.653/0001-39</th>\n",
       "      <td>1</td>\n",
       "    </tr>\n",
       "    <tr>\n",
       "      <th>05.763.587/0001-04</th>\n",
       "      <td>1</td>\n",
       "    </tr>\n",
       "    <tr>\n",
       "      <th>03.003.930/0001-97</th>\n",
       "      <td>1</td>\n",
       "    </tr>\n",
       "    <tr>\n",
       "      <th>03.942.303/0001-11</th>\n",
       "      <td>1</td>\n",
       "    </tr>\n",
       "    <tr>\n",
       "      <th>04.144.804/0001-15</th>\n",
       "      <td>1</td>\n",
       "    </tr>\n",
       "    <tr>\n",
       "      <th>04.453.641/0001-52</th>\n",
       "      <td>1</td>\n",
       "    </tr>\n",
       "    <tr>\n",
       "      <th>04.527.033/0001-45</th>\n",
       "      <td>1</td>\n",
       "    </tr>\n",
       "    <tr>\n",
       "      <th>04.953.008/0001-23</th>\n",
       "      <td>1</td>\n",
       "    </tr>\n",
       "    <tr>\n",
       "      <th>05.461.408/0001-84</th>\n",
       "      <td>1</td>\n",
       "    </tr>\n",
       "    <tr>\n",
       "      <th>07.053.387/0001-93</th>\n",
       "      <td>1</td>\n",
       "    </tr>\n",
       "    <tr>\n",
       "      <th>14.003.690/0001-47</th>\n",
       "      <td>1</td>\n",
       "    </tr>\n",
       "    <tr>\n",
       "      <th>08.154.750/0001-20</th>\n",
       "      <td>1</td>\n",
       "    </tr>\n",
       "    <tr>\n",
       "      <th>09.192.078/0001-20</th>\n",
       "      <td>1</td>\n",
       "    </tr>\n",
       "    <tr>\n",
       "      <th>11.591.334/0001-01</th>\n",
       "      <td>1</td>\n",
       "    </tr>\n",
       "    <tr>\n",
       "      <th>12.974.269/0001-58</th>\n",
       "      <td>1</td>\n",
       "    </tr>\n",
       "    <tr>\n",
       "      <th>01.098.474/0002-61</th>\n",
       "      <td>1</td>\n",
       "    </tr>\n",
       "    <tr>\n",
       "      <th>13.768.347/0001-20</th>\n",
       "      <td>1</td>\n",
       "    </tr>\n",
       "    <tr>\n",
       "      <th>13.850.055/0001-32</th>\n",
       "      <td>1</td>\n",
       "    </tr>\n",
       "    <tr>\n",
       "      <th>86.863.412/0001-70</th>\n",
       "      <td>1</td>\n",
       "    </tr>\n",
       "  </tbody>\n",
       "</table>\n",
       "</div>"
      ],
      "text/plain": [
       "col_0               qtd_reembolsos\n",
       "cnpj_cpf                          \n",
       "04.850.792/0001-44              12\n",
       "146.681.063-72                  12\n",
       "20.647.510/0001-62              11\n",
       "12.819.071/0001-08              10\n",
       "22.793.293/0001-44              10\n",
       "07.880.118/0001-09               8\n",
       "16.924.825/0001-32               8\n",
       "06.170.766/0001-09               6\n",
       "31.350.663/0004-02               4\n",
       "15.821.560/0001-84               4\n",
       "15.091.068/0001-09               4\n",
       "08.988.587/0001-09               3\n",
       "02.450.553/0001-71               3\n",
       "07.715.561/0001-16               3\n",
       "11.647.802/0001-04               3\n",
       "091.592.231-20                   3\n",
       "09.269.722/0001-10               3\n",
       "08.470.330/0001-52               3\n",
       "15.625.058/0001-06               2\n",
       "02.071.707/0001-14               2\n",
       "18.114.171/0001-07               2\n",
       "13.129.153/0001-85               2\n",
       "07.918.532/0001-51               2\n",
       "04.078.478/0001-95               2\n",
       "26.480.384/0001-80               1\n",
       "17.389.706/0001-90               1\n",
       "19.335.345/0002-05               1\n",
       "84.017.888/0001-65               1\n",
       "20.784.712/0001-56               1\n",
       "19.327.003/0001-62               1\n",
       "19.177.825/0001-04               1\n",
       "18.641.448/0001-50               1\n",
       "18.409.455/0001-20               1\n",
       "21.793.072/0001-03               1\n",
       "22.079.440/0001-19               1\n",
       "73.289.340/0001-58               1\n",
       "24.930.645/0001-91               1\n",
       "19.572.509/0001-37               1\n",
       "00.433.623/0001-58               1\n",
       "17.256.653/0001-39               1\n",
       "05.763.587/0001-04               1\n",
       "03.003.930/0001-97               1\n",
       "03.942.303/0001-11               1\n",
       "04.144.804/0001-15               1\n",
       "04.453.641/0001-52               1\n",
       "04.527.033/0001-45               1\n",
       "04.953.008/0001-23               1\n",
       "05.461.408/0001-84               1\n",
       "07.053.387/0001-93               1\n",
       "14.003.690/0001-47               1\n",
       "08.154.750/0001-20               1\n",
       "09.192.078/0001-20               1\n",
       "11.591.334/0001-01               1\n",
       "12.974.269/0001-58               1\n",
       "01.098.474/0002-61               1\n",
       "13.768.347/0001-20               1\n",
       "13.850.055/0001-32               1\n",
       "86.863.412/0001-70               1"
      ]
     },
     "execution_count": 50,
     "metadata": {},
     "output_type": "execute_result"
    }
   ],
   "source": [
    "reembolsos_cnpj_cpf.sort_values(by=\"qtd_reembolsos\", ascending=False)"
   ]
  },
  {
   "cell_type": "markdown",
   "metadata": {},
   "source": [
    "-------\n",
    "Agora vamos analisar o gasto por partido e estado dos senadores.\n",
    "\n",
    "Nós não temos essa informação no dado inicial, mas podemos pega-la em outro arquivo e\n",
    "fazer um merge entre os dois."
   ]
  },
  {
   "cell_type": "code",
   "execution_count": 51,
   "metadata": {
    "collapsed": true
   },
   "outputs": [],
   "source": [
    "senadores = pandas.read_html(\"senadores.html\", encoding = 'utf8')[0]"
   ]
  },
  {
   "cell_type": "code",
   "execution_count": 52,
   "metadata": {},
   "outputs": [
    {
     "data": {
      "text/html": [
       "<div>\n",
       "<style>\n",
       "    .dataframe thead tr:only-child th {\n",
       "        text-align: right;\n",
       "    }\n",
       "\n",
       "    .dataframe thead th {\n",
       "        text-align: left;\n",
       "    }\n",
       "\n",
       "    .dataframe tbody tr th {\n",
       "        vertical-align: top;\n",
       "    }\n",
       "</style>\n",
       "<table border=\"1\" class=\"dataframe\">\n",
       "  <thead>\n",
       "    <tr>\n",
       "      <th></th>\n",
       "      <th>Unnamed: 0_level_0</th>\n",
       "      <th>Nome</th>\n",
       "      <th>Partido</th>\n",
       "      <th>Início de mandato</th>\n",
       "      <th>Fim de mandato</th>\n",
       "      <th>Obs.</th>\n",
       "    </tr>\n",
       "    <tr>\n",
       "      <th></th>\n",
       "      <th>Acre</th>\n",
       "      <th>Unnamed: 1_level_1</th>\n",
       "      <th>Unnamed: 2_level_1</th>\n",
       "      <th>Unnamed: 3_level_1</th>\n",
       "      <th>Unnamed: 4_level_1</th>\n",
       "      <th>Unnamed: 5_level_1</th>\n",
       "    </tr>\n",
       "  </thead>\n",
       "  <tbody>\n",
       "    <tr>\n",
       "      <th>0</th>\n",
       "      <td>NaN</td>\n",
       "      <td>Gladson Cameli (Gladson de Lima Cameli)</td>\n",
       "      <td>PP</td>\n",
       "      <td>2015.0</td>\n",
       "      <td>2023.0</td>\n",
       "      <td>NaN</td>\n",
       "    </tr>\n",
       "    <tr>\n",
       "      <th>1</th>\n",
       "      <td>NaN</td>\n",
       "      <td>Jorge Viana (Jorge Ney Viana Macedo Neves)</td>\n",
       "      <td>PT</td>\n",
       "      <td>2011.0</td>\n",
       "      <td>2019.0</td>\n",
       "      <td>NaN</td>\n",
       "    </tr>\n",
       "    <tr>\n",
       "      <th>2</th>\n",
       "      <td>NaN</td>\n",
       "      <td>Sérgio Petecão (Sérgio de Oliveira Cunha)</td>\n",
       "      <td>PSD</td>\n",
       "      <td>2011.0</td>\n",
       "      <td>2019.0</td>\n",
       "      <td>NaN</td>\n",
       "    </tr>\n",
       "    <tr>\n",
       "      <th>3</th>\n",
       "      <td>Alagoas</td>\n",
       "      <td>NaN</td>\n",
       "      <td>NaN</td>\n",
       "      <td>NaN</td>\n",
       "      <td>NaN</td>\n",
       "      <td>NaN</td>\n",
       "    </tr>\n",
       "    <tr>\n",
       "      <th>4</th>\n",
       "      <td>NaN</td>\n",
       "      <td>Benedito de Lira</td>\n",
       "      <td>PP</td>\n",
       "      <td>2011.0</td>\n",
       "      <td>2019.0</td>\n",
       "      <td>NaN</td>\n",
       "    </tr>\n",
       "  </tbody>\n",
       "</table>\n",
       "</div>"
      ],
      "text/plain": [
       "  Unnamed: 0_level_0                                        Nome  \\\n",
       "                Acre                          Unnamed: 1_level_1   \n",
       "0                NaN     Gladson Cameli (Gladson de Lima Cameli)   \n",
       "1                NaN  Jorge Viana (Jorge Ney Viana Macedo Neves)   \n",
       "2                NaN   Sérgio Petecão (Sérgio de Oliveira Cunha)   \n",
       "3            Alagoas                                         NaN   \n",
       "4                NaN                            Benedito de Lira   \n",
       "\n",
       "             Partido  Início de mandato     Fim de mandato               Obs.  \n",
       "  Unnamed: 2_level_1 Unnamed: 3_level_1 Unnamed: 4_level_1 Unnamed: 5_level_1  \n",
       "0                 PP             2015.0             2023.0                NaN  \n",
       "1                 PT             2011.0             2019.0                NaN  \n",
       "2                PSD             2011.0             2019.0                NaN  \n",
       "3                NaN                NaN                NaN                NaN  \n",
       "4                 PP             2011.0             2019.0                NaN  "
      ]
     },
     "execution_count": 52,
     "metadata": {},
     "output_type": "execute_result"
    }
   ],
   "source": [
    "senadores.head()"
   ]
  },
  {
   "cell_type": "markdown",
   "metadata": {},
   "source": [
    "--------\n",
    "Nossos dados estão com varios problemas, precisamos trata-los antes de fazer o merge com o nosso dataframe principal.\n",
    "\n",
    "Vamos então:\n",
    "* excluir colunas que nao fazem sentido\n",
    "* renomear as colunas\n",
    "* normalizar a coluna de estado\n",
    "* tratar o nome dos senadores pois esse será nosso ponto de merge."
   ]
  },
  {
   "cell_type": "code",
   "execution_count": 53,
   "metadata": {},
   "outputs": [
    {
     "data": {
      "text/plain": [
       "(107, 6)"
      ]
     },
     "execution_count": 53,
     "metadata": {},
     "output_type": "execute_result"
    }
   ],
   "source": [
    "senadores.shape"
   ]
  },
  {
   "cell_type": "code",
   "execution_count": 54,
   "metadata": {
    "collapsed": true
   },
   "outputs": [],
   "source": [
    "del senadores[\"Início de mandato\"]\n",
    "del senadores[\"Fim de mandato\"]\n",
    "del senadores[\"Obs.\"]"
   ]
  },
  {
   "cell_type": "code",
   "execution_count": 55,
   "metadata": {},
   "outputs": [
    {
     "data": {
      "text/html": [
       "<div>\n",
       "<style>\n",
       "    .dataframe thead tr:only-child th {\n",
       "        text-align: right;\n",
       "    }\n",
       "\n",
       "    .dataframe thead th {\n",
       "        text-align: left;\n",
       "    }\n",
       "\n",
       "    .dataframe tbody tr th {\n",
       "        vertical-align: top;\n",
       "    }\n",
       "</style>\n",
       "<table border=\"1\" class=\"dataframe\">\n",
       "  <thead>\n",
       "    <tr>\n",
       "      <th></th>\n",
       "      <th>Unnamed: 0_level_0</th>\n",
       "      <th>Nome</th>\n",
       "      <th>Partido</th>\n",
       "    </tr>\n",
       "    <tr>\n",
       "      <th></th>\n",
       "      <th>Acre</th>\n",
       "      <th>Unnamed: 1_level_1</th>\n",
       "      <th>Unnamed: 2_level_1</th>\n",
       "    </tr>\n",
       "  </thead>\n",
       "  <tbody>\n",
       "    <tr>\n",
       "      <th>0</th>\n",
       "      <td>NaN</td>\n",
       "      <td>Gladson Cameli (Gladson de Lima Cameli)</td>\n",
       "      <td>PP</td>\n",
       "    </tr>\n",
       "    <tr>\n",
       "      <th>1</th>\n",
       "      <td>NaN</td>\n",
       "      <td>Jorge Viana (Jorge Ney Viana Macedo Neves)</td>\n",
       "      <td>PT</td>\n",
       "    </tr>\n",
       "    <tr>\n",
       "      <th>2</th>\n",
       "      <td>NaN</td>\n",
       "      <td>Sérgio Petecão (Sérgio de Oliveira Cunha)</td>\n",
       "      <td>PSD</td>\n",
       "    </tr>\n",
       "    <tr>\n",
       "      <th>3</th>\n",
       "      <td>Alagoas</td>\n",
       "      <td>NaN</td>\n",
       "      <td>NaN</td>\n",
       "    </tr>\n",
       "    <tr>\n",
       "      <th>4</th>\n",
       "      <td>NaN</td>\n",
       "      <td>Benedito de Lira</td>\n",
       "      <td>PP</td>\n",
       "    </tr>\n",
       "  </tbody>\n",
       "</table>\n",
       "</div>"
      ],
      "text/plain": [
       "  Unnamed: 0_level_0                                        Nome  \\\n",
       "                Acre                          Unnamed: 1_level_1   \n",
       "0                NaN     Gladson Cameli (Gladson de Lima Cameli)   \n",
       "1                NaN  Jorge Viana (Jorge Ney Viana Macedo Neves)   \n",
       "2                NaN   Sérgio Petecão (Sérgio de Oliveira Cunha)   \n",
       "3            Alagoas                                         NaN   \n",
       "4                NaN                            Benedito de Lira   \n",
       "\n",
       "             Partido  \n",
       "  Unnamed: 2_level_1  \n",
       "0                 PP  \n",
       "1                 PT  \n",
       "2                PSD  \n",
       "3                NaN  \n",
       "4                 PP  "
      ]
     },
     "execution_count": 55,
     "metadata": {},
     "output_type": "execute_result"
    }
   ],
   "source": [
    "senadores.head()"
   ]
  },
  {
   "cell_type": "code",
   "execution_count": 56,
   "metadata": {
    "collapsed": true
   },
   "outputs": [],
   "source": [
    "senadores.rename(columns={\"Unnamed: 0_level_0\": \"estado\", \"Nome\": \"nome\", \"Partido\": \"partido\"}, inplace=True)"
   ]
  },
  {
   "cell_type": "code",
   "execution_count": 57,
   "metadata": {},
   "outputs": [],
   "source": [
    "estado = \"Acre\"\n",
    "for i, row in senadores.iterrows():\n",
    "    if pandas.isnull(row[\"estado\"][0]):\n",
    "        senadores.loc[i][\"estado\"] = estado\n",
    "    else:\n",
    "        estado = row[\"estado\"][0]"
   ]
  },
  {
   "cell_type": "code",
   "execution_count": 58,
   "metadata": {},
   "outputs": [],
   "source": [
    "senadores.dropna(inplace=True)"
   ]
  },
  {
   "cell_type": "code",
   "execution_count": 59,
   "metadata": {},
   "outputs": [],
   "source": [
    "senadores.columns = ['estado', 'nome', 'partido']"
   ]
  },
  {
   "cell_type": "code",
   "execution_count": 60,
   "metadata": {},
   "outputs": [],
   "source": [
    "senadores.nome = senadores.nome.str.replace(r\"\\s\\(.*\\)\", \"\").str.upper()"
   ]
  },
  {
   "cell_type": "code",
   "execution_count": 61,
   "metadata": {},
   "outputs": [
    {
     "data": {
      "text/html": [
       "<div>\n",
       "<style>\n",
       "    .dataframe thead tr:only-child th {\n",
       "        text-align: right;\n",
       "    }\n",
       "\n",
       "    .dataframe thead th {\n",
       "        text-align: left;\n",
       "    }\n",
       "\n",
       "    .dataframe tbody tr th {\n",
       "        vertical-align: top;\n",
       "    }\n",
       "</style>\n",
       "<table border=\"1\" class=\"dataframe\">\n",
       "  <thead>\n",
       "    <tr style=\"text-align: right;\">\n",
       "      <th></th>\n",
       "      <th>estado</th>\n",
       "      <th>nome</th>\n",
       "      <th>partido</th>\n",
       "    </tr>\n",
       "  </thead>\n",
       "  <tbody>\n",
       "    <tr>\n",
       "      <th>0</th>\n",
       "      <td>Acre</td>\n",
       "      <td>GLADSON CAMELI</td>\n",
       "      <td>PP</td>\n",
       "    </tr>\n",
       "    <tr>\n",
       "      <th>1</th>\n",
       "      <td>Acre</td>\n",
       "      <td>JORGE VIANA</td>\n",
       "      <td>PT</td>\n",
       "    </tr>\n",
       "    <tr>\n",
       "      <th>2</th>\n",
       "      <td>Acre</td>\n",
       "      <td>SÉRGIO PETECÃO</td>\n",
       "      <td>PSD</td>\n",
       "    </tr>\n",
       "    <tr>\n",
       "      <th>4</th>\n",
       "      <td>Alagoas</td>\n",
       "      <td>BENEDITO DE LIRA</td>\n",
       "      <td>PP</td>\n",
       "    </tr>\n",
       "    <tr>\n",
       "      <th>5</th>\n",
       "      <td>Alagoas</td>\n",
       "      <td>FERNANDO COLLOR</td>\n",
       "      <td>PTC</td>\n",
       "    </tr>\n",
       "  </tbody>\n",
       "</table>\n",
       "</div>"
      ],
      "text/plain": [
       "    estado              nome partido\n",
       "0     Acre    GLADSON CAMELI      PP\n",
       "1     Acre       JORGE VIANA      PT\n",
       "2     Acre    SÉRGIO PETECÃO     PSD\n",
       "4  Alagoas  BENEDITO DE LIRA      PP\n",
       "5  Alagoas   FERNANDO COLLOR     PTC"
      ]
     },
     "execution_count": 61,
     "metadata": {},
     "output_type": "execute_result"
    }
   ],
   "source": [
    "senadores.head()"
   ]
  },
  {
   "cell_type": "markdown",
   "metadata": {},
   "source": [
    "-----------\n",
    "Agora com os dados tratados podemos fazer nosso merge e começar as analises."
   ]
  },
  {
   "cell_type": "code",
   "execution_count": 63,
   "metadata": {},
   "outputs": [
    {
     "data": {
      "text/html": [
       "<div>\n",
       "<style>\n",
       "    .dataframe thead tr:only-child th {\n",
       "        text-align: right;\n",
       "    }\n",
       "\n",
       "    .dataframe thead th {\n",
       "        text-align: left;\n",
       "    }\n",
       "\n",
       "    .dataframe tbody tr th {\n",
       "        vertical-align: top;\n",
       "    }\n",
       "</style>\n",
       "<table border=\"1\" class=\"dataframe\">\n",
       "  <thead>\n",
       "    <tr style=\"text-align: right;\">\n",
       "      <th></th>\n",
       "      <th>Unnamed: 0</th>\n",
       "      <th>Nome</th>\n",
       "      <th>Partido</th>\n",
       "      <th>Estado</th>\n",
       "      <th>Titular</th>\n",
       "      <th>Período(s) exercido(s)</th>\n",
       "      <th>Obs.</th>\n",
       "    </tr>\n",
       "  </thead>\n",
       "  <tbody>\n",
       "    <tr>\n",
       "      <th>0</th>\n",
       "      <td>NaN</td>\n",
       "      <td>Deca Sobrinho (José Gonzaga Sobrinho)</td>\n",
       "      <td>PSDB</td>\n",
       "      <td>Paraíba</td>\n",
       "      <td>Cássio Cunha Lima</td>\n",
       "      <td>2015 - 2016</td>\n",
       "      <td>Primeiro suplente</td>\n",
       "    </tr>\n",
       "    <tr>\n",
       "      <th>1</th>\n",
       "      <td>NaN</td>\n",
       "      <td>Donizeti Nogueira (Divino Donizeti Borges Nogu...</td>\n",
       "      <td>PT</td>\n",
       "      <td>Tocantins</td>\n",
       "      <td>Kátia Abreu</td>\n",
       "      <td>2015-2016</td>\n",
       "      <td>Primeiro suplente</td>\n",
       "    </tr>\n",
       "    <tr>\n",
       "      <th>2</th>\n",
       "      <td>NaN</td>\n",
       "      <td>Douglas Cintra (Douglas Mauricio Ramos Cintra)</td>\n",
       "      <td>PTB</td>\n",
       "      <td>Pernambuco</td>\n",
       "      <td>Armando Monteiro</td>\n",
       "      <td>2015-2016</td>\n",
       "      <td>Primeiro suplente</td>\n",
       "    </tr>\n",
       "    <tr>\n",
       "      <th>3</th>\n",
       "      <td>NaN</td>\n",
       "      <td>Fernando Ribeiro (Fernando de Castro Ribeiro)</td>\n",
       "      <td>PMDB</td>\n",
       "      <td>Pará</td>\n",
       "      <td>Jader Barbalho</td>\n",
       "      <td>2015</td>\n",
       "      <td>Primeiro suplente</td>\n",
       "    </tr>\n",
       "    <tr>\n",
       "      <th>4</th>\n",
       "      <td>NaN</td>\n",
       "      <td>Gilberto Piselo (Gilberto Piselo do Nascimento)</td>\n",
       "      <td>PDT</td>\n",
       "      <td>Rondônia</td>\n",
       "      <td>Acir Gurgacz</td>\n",
       "      <td>2016</td>\n",
       "      <td>Primeiro suplente</td>\n",
       "    </tr>\n",
       "  </tbody>\n",
       "</table>\n",
       "</div>"
      ],
      "text/plain": [
       "   Unnamed: 0                                               Nome Partido  \\\n",
       "0         NaN              Deca Sobrinho (José Gonzaga Sobrinho)    PSDB   \n",
       "1         NaN  Donizeti Nogueira (Divino Donizeti Borges Nogu...      PT   \n",
       "2         NaN     Douglas Cintra (Douglas Mauricio Ramos Cintra)     PTB   \n",
       "3         NaN      Fernando Ribeiro (Fernando de Castro Ribeiro)    PMDB   \n",
       "4         NaN    Gilberto Piselo (Gilberto Piselo do Nascimento)     PDT   \n",
       "\n",
       "       Estado            Titular Período(s) exercido(s)               Obs.  \n",
       "0     Paraíba  Cássio Cunha Lima            2015 - 2016  Primeiro suplente  \n",
       "1   Tocantins        Kátia Abreu              2015-2016  Primeiro suplente  \n",
       "2  Pernambuco   Armando Monteiro              2015-2016  Primeiro suplente  \n",
       "3        Pará     Jader Barbalho                   2015  Primeiro suplente  \n",
       "4    Rondônia       Acir Gurgacz                   2016  Primeiro suplente  "
      ]
     },
     "execution_count": 63,
     "metadata": {},
     "output_type": "execute_result"
    }
   ],
   "source": [
    "suplentes = pandas.read_html(\"suplentes.html\", encoding='utf-8')[0]\n",
    "suplentes.head()"
   ]
  },
  {
   "cell_type": "code",
   "execution_count": 64,
   "metadata": {},
   "outputs": [
    {
     "data": {
      "text/html": [
       "<div>\n",
       "<style>\n",
       "    .dataframe thead tr:only-child th {\n",
       "        text-align: right;\n",
       "    }\n",
       "\n",
       "    .dataframe thead th {\n",
       "        text-align: left;\n",
       "    }\n",
       "\n",
       "    .dataframe tbody tr th {\n",
       "        vertical-align: top;\n",
       "    }\n",
       "</style>\n",
       "<table border=\"1\" class=\"dataframe\">\n",
       "  <thead>\n",
       "    <tr style=\"text-align: right;\">\n",
       "      <th></th>\n",
       "      <th>Nome</th>\n",
       "      <th>Partido</th>\n",
       "      <th>Estado</th>\n",
       "    </tr>\n",
       "  </thead>\n",
       "  <tbody>\n",
       "    <tr>\n",
       "      <th>0</th>\n",
       "      <td>Deca Sobrinho (José Gonzaga Sobrinho)</td>\n",
       "      <td>PSDB</td>\n",
       "      <td>Paraíba</td>\n",
       "    </tr>\n",
       "    <tr>\n",
       "      <th>1</th>\n",
       "      <td>Donizeti Nogueira (Divino Donizeti Borges Nogu...</td>\n",
       "      <td>PT</td>\n",
       "      <td>Tocantins</td>\n",
       "    </tr>\n",
       "    <tr>\n",
       "      <th>2</th>\n",
       "      <td>Douglas Cintra (Douglas Mauricio Ramos Cintra)</td>\n",
       "      <td>PTB</td>\n",
       "      <td>Pernambuco</td>\n",
       "    </tr>\n",
       "    <tr>\n",
       "      <th>3</th>\n",
       "      <td>Fernando Ribeiro (Fernando de Castro Ribeiro)</td>\n",
       "      <td>PMDB</td>\n",
       "      <td>Pará</td>\n",
       "    </tr>\n",
       "    <tr>\n",
       "      <th>4</th>\n",
       "      <td>Gilberto Piselo (Gilberto Piselo do Nascimento)</td>\n",
       "      <td>PDT</td>\n",
       "      <td>Rondônia</td>\n",
       "    </tr>\n",
       "  </tbody>\n",
       "</table>\n",
       "</div>"
      ],
      "text/plain": [
       "                                                Nome Partido      Estado\n",
       "0              Deca Sobrinho (José Gonzaga Sobrinho)    PSDB     Paraíba\n",
       "1  Donizeti Nogueira (Divino Donizeti Borges Nogu...      PT   Tocantins\n",
       "2     Douglas Cintra (Douglas Mauricio Ramos Cintra)     PTB  Pernambuco\n",
       "3      Fernando Ribeiro (Fernando de Castro Ribeiro)    PMDB        Pará\n",
       "4    Gilberto Piselo (Gilberto Piselo do Nascimento)     PDT    Rondônia"
      ]
     },
     "execution_count": 64,
     "metadata": {},
     "output_type": "execute_result"
    }
   ],
   "source": [
    "del suplentes[\"Unnamed: 0\"]\n",
    "del suplentes[\"Titular\"]\n",
    "del suplentes[\"Período(s) exercido(s)\"]\n",
    "del suplentes[\"Obs.\"]\n",
    "suplentes.head()"
   ]
  },
  {
   "cell_type": "code",
   "execution_count": 65,
   "metadata": {},
   "outputs": [
    {
     "data": {
      "text/html": [
       "<div>\n",
       "<style>\n",
       "    .dataframe thead tr:only-child th {\n",
       "        text-align: right;\n",
       "    }\n",
       "\n",
       "    .dataframe thead th {\n",
       "        text-align: left;\n",
       "    }\n",
       "\n",
       "    .dataframe tbody tr th {\n",
       "        vertical-align: top;\n",
       "    }\n",
       "</style>\n",
       "<table border=\"1\" class=\"dataframe\">\n",
       "  <thead>\n",
       "    <tr style=\"text-align: right;\">\n",
       "      <th></th>\n",
       "      <th>nome</th>\n",
       "      <th>partido</th>\n",
       "      <th>estado</th>\n",
       "    </tr>\n",
       "  </thead>\n",
       "  <tbody>\n",
       "    <tr>\n",
       "      <th>0</th>\n",
       "      <td>DECA SOBRINHO</td>\n",
       "      <td>PSDB</td>\n",
       "      <td>Paraíba</td>\n",
       "    </tr>\n",
       "    <tr>\n",
       "      <th>1</th>\n",
       "      <td>DONIZETI NOGUEIRA</td>\n",
       "      <td>PT</td>\n",
       "      <td>Tocantins</td>\n",
       "    </tr>\n",
       "    <tr>\n",
       "      <th>2</th>\n",
       "      <td>DOUGLAS CINTRA</td>\n",
       "      <td>PTB</td>\n",
       "      <td>Pernambuco</td>\n",
       "    </tr>\n",
       "    <tr>\n",
       "      <th>3</th>\n",
       "      <td>FERNANDO RIBEIRO</td>\n",
       "      <td>PMDB</td>\n",
       "      <td>Pará</td>\n",
       "    </tr>\n",
       "    <tr>\n",
       "      <th>4</th>\n",
       "      <td>GILBERTO PISELO</td>\n",
       "      <td>PDT</td>\n",
       "      <td>Rondônia</td>\n",
       "    </tr>\n",
       "  </tbody>\n",
       "</table>\n",
       "</div>"
      ],
      "text/plain": [
       "                nome partido      estado\n",
       "0      DECA SOBRINHO    PSDB     Paraíba\n",
       "1  DONIZETI NOGUEIRA      PT   Tocantins\n",
       "2     DOUGLAS CINTRA     PTB  Pernambuco\n",
       "3   FERNANDO RIBEIRO    PMDB        Pará\n",
       "4    GILBERTO PISELO     PDT    Rondônia"
      ]
     },
     "execution_count": 65,
     "metadata": {},
     "output_type": "execute_result"
    }
   ],
   "source": [
    "suplentes.columns = ['nome', 'partido', \"estado\"]\n",
    "suplentes.nome = suplentes.nome.str.replace(r\"\\s\\(.*\\)\", \"\").str.upper()\n",
    "suplentes.head()"
   ]
  },
  {
   "cell_type": "code",
   "execution_count": 73,
   "metadata": {},
   "outputs": [
    {
     "data": {
      "text/plain": [
       "107"
      ]
     },
     "execution_count": 73,
     "metadata": {},
     "output_type": "execute_result"
    }
   ],
   "source": [
    "senadores = pandas.concat([senadores, suplentes])\n",
    "senadores = senadores.reset_index(drop=True)\n",
    "len(senadores)"
   ]
  },
  {
   "cell_type": "code",
   "execution_count": 71,
   "metadata": {},
   "outputs": [
    {
     "name": "stdout",
     "output_type": "stream",
     "text": [
      "<class 'pandas.core.frame.DataFrame'>\n",
      "Int64Index: 26691 entries, 0 to 26690\n",
      "Data columns (total 13 columns):\n",
      "year                   26691 non-null int64\n",
      "month                  26691 non-null int64\n",
      "congressperson_name    26691 non-null object\n",
      "expense_type           26691 non-null object\n",
      "cnpj_cpf               26691 non-null object\n",
      "supplier               26691 non-null object\n",
      "document_id            26691 non-null object\n",
      "date                   26691 non-null object\n",
      "expense_details        26691 non-null object\n",
      "reimbursement_value    26691 non-null float64\n",
      "estado                 23865 non-null object\n",
      "nome                   23865 non-null object\n",
      "partido                23865 non-null object\n",
      "dtypes: float64(1), int64(2), object(10)\n",
      "memory usage: 2.9+ MB\n"
     ]
    }
   ],
   "source": [
    "df = df.merge(senadores, how=\"left\", left_on=\"congressperson_name\", right_on=\"nome\")\n",
    "df.info()\n",
    "# dist plot de dois anos"
   ]
  },
  {
   "cell_type": "code",
   "execution_count": 72,
   "metadata": {},
   "outputs": [],
   "source": [
    "df.document_id.fillna(0, inplace=True)\n",
    "df.expense_details.fillna(\"0\", inplace=True)\n",
    "del df[\"nome\"]"
   ]
  },
  {
   "cell_type": "code",
   "execution_count": 81,
   "metadata": {},
   "outputs": [
    {
     "data": {
      "text/plain": [
       "<matplotlib.axes._subplots.AxesSubplot at 0x7fb56a554860>"
      ]
     },
     "execution_count": 81,
     "metadata": {},
     "output_type": "execute_result"
    },
    {
     "data": {
      "image/png": "[encoded data removed]",
      "text/plain": [
       "<matplotlib.figure.Figure at 0x7fb56a595080>"
      ]
     },
     "metadata": {},
     "output_type": "display_data"
    }
   ],
   "source": [
    "por_estado = df.groupby(\"estado\")\n",
    "gasto_estado = por_estado.agg({\"reimbursement_value\": \"sum\"})\n",
    "gasto_estado_percent = gasto_estado.apply(lambda x: 100 * x / float(x.sum()))\n",
    "gasto_estado_percent.plot.bar()"
   ]
  },
  {
   "cell_type": "code",
   "execution_count": 102,
   "metadata": {},
   "outputs": [
    {
     "data": {
      "text/plain": [
       "<matplotlib.axes._subplots.AxesSubplot at 0x7fb56802a780>"
      ]
     },
     "execution_count": 102,
     "metadata": {},
     "output_type": "execute_result"
    },
    {
     "name": "stderr",
     "output_type": "stream",
     "text": [
      "/usr/local/lib/python3.6/site-packages/matplotlib/font_manager.py:1297: UserWarning: findfont: Font family ['sans-serif'] not found. Falling back to DejaVu Sans\n",
      "  (prop.get_family(), self.defaultFamily[fontext]))\n"
     ]
    },
    {
     "data": {
      "image/png": "[encoded data removed]",
      "text/plain": [
       "<matplotlib.figure.Figure at 0x7fb568050668>"
      ]
     },
     "metadata": {},
     "output_type": "display_data"
    }
   ],
   "source": [
    "por_partido = df.groupby(\"partido\")\n",
    "gasto_partido = por_partido.agg({\"reimbursement_value\": \"sum\"})\n",
    "gasto_partido_percent = gasto_partido.apply(lambda x: 100 * x / float(x.sum()))\n",
    "gasto_partido_percent.plot.bar()"
   ]
  },
  {
   "cell_type": "code",
   "execution_count": 103,
   "metadata": {},
   "outputs": [
    {
     "data": {
      "text/plain": [
       "<matplotlib.axes._subplots.AxesSubplot at 0x7fb563cd5f28>"
      ]
     },
     "execution_count": 103,
     "metadata": {},
     "output_type": "execute_result"
    },
    {
     "name": "stderr",
     "output_type": "stream",
     "text": [
      "/usr/local/lib/python3.6/site-packages/matplotlib/font_manager.py:1297: UserWarning: findfont: Font family ['sans-serif'] not found. Falling back to DejaVu Sans\n",
      "  (prop.get_family(), self.defaultFamily[fontext]))\n"
     ]
    },
    {
     "data": {
      "image/png": "[encoded data removed]",
      "text/plain": [
       "<matplotlib.figure.Figure at 0x7fb5680c2710>"
      ]
     },
     "metadata": {},
     "output_type": "display_data"
    }
   ],
   "source": [
    "partidos = por_partido.congressperson_name.unique()\n",
    "qtd_partido = partidos.aggregate(lambda x: len(x))\n",
    "qtd_partido_percent = qtd_partido.apply(lambda x: 100 * x / float(qtd_partido.sum()))\n",
    "qtd_partido_percent.plot.bar()"
   ]
  },
  {
   "cell_type": "code",
   "execution_count": 130,
   "metadata": {},
   "outputs": [
    {
     "data": {
      "text/plain": [
       "<matplotlib.axes._subplots.AxesSubplot at 0x7fb563691ba8>"
      ]
     },
     "execution_count": 130,
     "metadata": {},
     "output_type": "execute_result"
    },
    {
     "name": "stderr",
     "output_type": "stream",
     "text": [
      "/usr/local/lib/python3.6/site-packages/matplotlib/font_manager.py:1297: UserWarning: findfont: Font family ['sans-serif'] not found. Falling back to DejaVu Sans\n",
      "  (prop.get_family(), self.defaultFamily[fontext]))\n"
     ]
    },
    {
     "data": {
      "image/png": "[encoded data removed]",
      "text/plain": [
       "<matplotlib.figure.Figure at 0x7fb5636a42e8>"
      ]
     },
     "metadata": {},
     "output_type": "display_data"
    }
   ],
   "source": [
    "#gasto por partido / quantidade de senadores em cada partido.\n",
    "qtd_partido_df = qtd_partido_percent.to_frame()\n",
    "ndf = pandas.concat([qtd_partido_df, gasto_partido_percent], axis=1)\n",
    "ndf = ndf.rename(columns={\"congressperson_name\": \"% de senadores\", \"reimbursement_value\": \"% de gastos\"})\n",
    "ndf.plot.bar()"
   ]
  },
  {
   "cell_type": "markdown",
   "metadata": {},
   "source": [
    "---------------\n",
    "\n",
    "## Proximos passos\n",
    "Com essas tecnicas podemos fazer uma analise dos dados do senado e tirar algumas conclusões.\n",
    "\n",
    "Agora podemos pegar os dados dos anos anteriores e compara-los com os desse ano. :)"
   ]
  }
 ],
 "metadata": {
  "kernelspec": {
   "display_name": "Python 3",
   "language": "python",
   "name": "python3"
  },
  "language_info": {
   "codemirror_mode": {
    "name": "ipython",
    "version": 3
   },
   "file_extension": ".py",
   "mimetype": "text/x-python",
   "name": "python",
   "nbconvert_exporter": "python",
   "pygments_lexer": "ipython3",
   "version": "3.6.3"
  }
 },
 "nbformat": 4,
 "nbformat_minor": 2
}
